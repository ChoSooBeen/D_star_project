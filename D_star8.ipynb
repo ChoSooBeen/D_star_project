{
  "nbformat": 4,
  "nbformat_minor": 0,
  "metadata": {
    "colab": {
      "provenance": []
    },
    "kernelspec": {
      "name": "python3",
      "display_name": "Python 3"
    },
    "language_info": {
      "name": "python"
    },
    "accelerator": "GPU"
  },
  "cells": [
    {
      "cell_type": "markdown",
      "source": [
        "# 대스타\n",
        "\n",
        "[참고]https://datacook.tistory.com/59"
      ],
      "metadata": {
        "id": "tNpoMBjRKTey"
      }
    },
    {
      "cell_type": "markdown",
      "source": [
        "### 환경 설정"
      ],
      "metadata": {
        "id": "PfMthqekMSnB"
      }
    },
    {
      "cell_type": "code",
      "source": [
        "import tensorflow as tf\n",
        "\n",
        "tf.__version__"
      ],
      "metadata": {
        "colab": {
          "base_uri": "https://localhost:8080/",
          "height": 35
        },
        "id": "J4JyScrvLvjn",
        "outputId": "0b36f2a2-76ce-48e8-f132-ef958950a86e"
      },
      "execution_count": 1,
      "outputs": [
        {
          "output_type": "execute_result",
          "data": {
            "text/plain": [
              "'2.8.2'"
            ],
            "application/vnd.google.colaboratory.intrinsic+json": {
              "type": "string"
            }
          },
          "metadata": {},
          "execution_count": 1
        }
      ]
    },
    {
      "cell_type": "code",
      "source": [
        "pip install keras"
      ],
      "metadata": {
        "colab": {
          "base_uri": "https://localhost:8080/"
        },
        "id": "3sEY-HhlMIC_",
        "outputId": "db9c5626-8e70-4c40-cdbb-f897336fde9c"
      },
      "execution_count": 2,
      "outputs": [
        {
          "output_type": "stream",
          "name": "stdout",
          "text": [
            "Looking in indexes: https://pypi.org/simple, https://us-python.pkg.dev/colab-wheels/public/simple/\n",
            "Requirement already satisfied: keras in /usr/local/lib/python3.7/dist-packages (2.8.0)\n"
          ]
        }
      ]
    },
    {
      "cell_type": "code",
      "source": [
        "import keras\n",
        "\n",
        "keras.__version__"
      ],
      "metadata": {
        "colab": {
          "base_uri": "https://localhost:8080/",
          "height": 35
        },
        "id": "_ubJOLhrMMCC",
        "outputId": "b7b719af-bf9c-40c1-8d74-5ec30dfaea20"
      },
      "execution_count": 3,
      "outputs": [
        {
          "output_type": "execute_result",
          "data": {
            "text/plain": [
              "'2.8.0'"
            ],
            "application/vnd.google.colaboratory.intrinsic+json": {
              "type": "string"
            }
          },
          "metadata": {},
          "execution_count": 3
        }
      ]
    },
    {
      "cell_type": "markdown",
      "source": [
        "# 라이브러리 선언"
      ],
      "metadata": {
        "id": "xref2LfGMVtJ"
      }
    },
    {
      "cell_type": "code",
      "source": [
        "import tensorflow as tf\n",
        "import matplotlib.pyplot as plt\n",
        "from tensorflow.keras.layers import *\n",
        "from tensorflow.keras.models import Model,Sequential\n",
        "import zipfile\n",
        "\n",
        "import gdown"
      ],
      "metadata": {
        "id": "d3OB7S6mMVZT"
      },
      "execution_count": 4,
      "outputs": []
    },
    {
      "cell_type": "markdown",
      "source": [
        "### Data Download"
      ],
      "metadata": {
        "id": "RsZ05pcFNi8G"
      }
    },
    {
      "cell_type": "code",
      "source": [
        "google_path = 'https://drive.google.com/uc?id='\n",
        "file_id = '1QE56cgOZcwV4r4CzNEs_BdoIp2zLl2IA'\n",
        "output_name = 'train.zip'\n",
        "gdown.download(google_path+file_id,output_name)\n",
        "\n",
        "#https://lapina.tistory.com/140"
      ],
      "metadata": {
        "colab": {
          "base_uri": "https://localhost:8080/",
          "height": 108
        },
        "id": "wTox90hUOY_2",
        "outputId": "442f260c-ece0-4100-9c9d-7999ac790759"
      },
      "execution_count": 10,
      "outputs": [
        {
          "output_type": "stream",
          "name": "stderr",
          "text": [
            "Downloading...\n",
            "From: https://drive.google.com/uc?id=1QE56cgOZcwV4r4CzNEs_BdoIp2zLl2IA\n",
            "To: /content/train.zip\n",
            "100%|██████████| 1.37G/1.37G [00:24<00:00, 55.6MB/s]\n"
          ]
        },
        {
          "output_type": "execute_result",
          "data": {
            "text/plain": [
              "'train.zip'"
            ],
            "application/vnd.google.colaboratory.intrinsic+json": {
              "type": "string"
            }
          },
          "metadata": {},
          "execution_count": 10
        }
      ]
    },
    {
      "cell_type": "code",
      "source": [
        "input_path = './train.zip'\n",
        "output_path = './data'"
      ],
      "metadata": {
        "id": "ThA6HGufS4Z_"
      },
      "execution_count": 11,
      "outputs": []
    },
    {
      "cell_type": "code",
      "source": [
        "zip_data = zipfile.ZipFile(input_path)\n",
        "zip_data.extractall(output_path)"
      ],
      "metadata": {
        "id": "3TD8UTOTV1lq"
      },
      "execution_count": 12,
      "outputs": []
    },
    {
      "cell_type": "code",
      "source": [
        "train_path = './data/re_train'"
      ],
      "metadata": {
        "id": "VpIHmEfPWDnr"
      },
      "execution_count": 13,
      "outputs": []
    },
    {
      "cell_type": "code",
      "source": [
        "# 예측할 클래스 수\n",
        "classes = 309\n",
        "\n",
        "# Input으로 사용될 크기와 채널수\n",
        "height = 256\n",
        "width = 256\n",
        "channels = 3"
      ],
      "metadata": {
        "id": "P-7MiPBTWKvY"
      },
      "execution_count": 14,
      "outputs": []
    },
    {
      "cell_type": "code",
      "source": [
        "image_generator = tf.keras.preprocessing.image.ImageDataGenerator(validation_split=0.1)\n",
        "image_data_train = image_generator.flow_from_directory(train_path,subset='training')\n",
        "image_data_test = image_generator.flow_from_directory(train_path,subset='validation')"
      ],
      "metadata": {
        "colab": {
          "base_uri": "https://localhost:8080/"
        },
        "id": "lWL7eBVrWsiH",
        "outputId": "cc3e852b-37e5-4fbc-ca4e-3ac3dd387502"
      },
      "execution_count": 23,
      "outputs": [
        {
          "output_type": "stream",
          "name": "stdout",
          "text": [
            "Found 39025 images belonging to 309 classes.\n",
            "Found 4207 images belonging to 309 classes.\n"
          ]
        }
      ]
    },
    {
      "cell_type": "markdown",
      "source": [
        "### Model Load"
      ],
      "metadata": {
        "id": "R0baDUbRW5uj"
      }
    },
    {
      "cell_type": "code",
      "source": [
        "resnetv2 = tf.keras.applications.ResNet50V2(include_top=False,input_shape=(height,width,channels))"
      ],
      "metadata": {
        "id": "HZvdY3BbW8Gg"
      },
      "execution_count": 24,
      "outputs": []
    },
    {
      "cell_type": "code",
      "source": [
        "resnetv2.trainable=False"
      ],
      "metadata": {
        "id": "KyI_m_6lXAv3"
      },
      "execution_count": 25,
      "outputs": []
    },
    {
      "cell_type": "code",
      "source": [
        "model = Sequential([\n",
        "                 resnetv2,\n",
        "                 Dense(512,activation='relu'),\n",
        "                 BatchNormalization(),\n",
        "                 GlobalAveragePooling2D(),\n",
        "                 Dense(classes,activation='softmax')\n",
        "])"
      ],
      "metadata": {
        "id": "SuwmKomaXDRY"
      },
      "execution_count": 26,
      "outputs": []
    },
    {
      "cell_type": "code",
      "source": [
        "model.summary()"
      ],
      "metadata": {
        "colab": {
          "base_uri": "https://localhost:8080/"
        },
        "id": "U1Mz35CZXGp4",
        "outputId": "cc954aec-d33d-4216-cbd3-1fea4daac5eb"
      },
      "execution_count": 27,
      "outputs": [
        {
          "output_type": "stream",
          "name": "stdout",
          "text": [
            "Model: \"sequential_1\"\n",
            "_________________________________________________________________\n",
            " Layer (type)                Output Shape              Param #   \n",
            "=================================================================\n",
            " resnet50v2 (Functional)     (None, 8, 8, 2048)        23564800  \n",
            "                                                                 \n",
            " dense_2 (Dense)             (None, 8, 8, 512)         1049088   \n",
            "                                                                 \n",
            " batch_normalization_1 (Batc  (None, 8, 8, 512)        2048      \n",
            " hNormalization)                                                 \n",
            "                                                                 \n",
            " global_average_pooling2d_1   (None, 512)              0         \n",
            " (GlobalAveragePooling2D)                                        \n",
            "                                                                 \n",
            " dense_3 (Dense)             (None, 309)               158517    \n",
            "                                                                 \n",
            "=================================================================\n",
            "Total params: 24,774,453\n",
            "Trainable params: 1,208,629\n",
            "Non-trainable params: 23,565,824\n",
            "_________________________________________________________________\n"
          ]
        }
      ]
    },
    {
      "cell_type": "code",
      "source": [
        "model.compile(optimizer='adam',loss='categorical_crossentropy',metrics='accuracy')"
      ],
      "metadata": {
        "id": "Xvzh0-P1XfWb"
      },
      "execution_count": 28,
      "outputs": []
    },
    {
      "cell_type": "code",
      "source": [
        "def scheduler(epoch, lr):\n",
        "    if epoch < 2:\n",
        "        return lr\n",
        "    else:\n",
        "        return lr * tf.math.exp(-0.1)"
      ],
      "metadata": {
        "id": "2XqiACWkXht3"
      },
      "execution_count": 29,
      "outputs": []
    },
    {
      "cell_type": "code",
      "source": [
        "lrs = tf.keras.callbacks.LearningRateScheduler(scheduler)"
      ],
      "metadata": {
        "id": "K4-20tv7XmeY"
      },
      "execution_count": 30,
      "outputs": []
    },
    {
      "cell_type": "markdown",
      "source": [
        "### Model fit"
      ],
      "metadata": {
        "id": "Wuy3G2BjXqqn"
      }
    },
    {
      "cell_type": "code",
      "source": [
        "model.fit(image_data_train,batch_size=64,epochs=10,callbacks=[lrs],validation_data=(image_data_test),\n",
        "          validation_steps =image_data_test.samples/image_data_test.batch_size)"
      ],
      "metadata": {
        "colab": {
          "base_uri": "https://localhost:8080/"
        },
        "id": "DKRSK8X2Xo1b",
        "outputId": "fa809fbb-1eec-46a9-e280-64cad7220c7b"
      },
      "execution_count": 31,
      "outputs": [
        {
          "output_type": "stream",
          "name": "stdout",
          "text": [
            "Epoch 1/10\n",
            "1220/1220 [==============================] - 184s 139ms/step - loss: 4.0055 - accuracy: 0.1600 - val_loss: 3.5717 - val_accuracy: 0.2318 - lr: 0.0010\n",
            "Epoch 2/10\n",
            "1220/1220 [==============================] - 170s 140ms/step - loss: 2.5881 - accuracy: 0.4078 - val_loss: 2.8637 - val_accuracy: 0.3449 - lr: 0.0010\n",
            "Epoch 3/10\n",
            "1220/1220 [==============================] - 171s 140ms/step - loss: 1.8654 - accuracy: 0.5694 - val_loss: 2.0977 - val_accuracy: 0.5165 - lr: 9.0484e-04\n",
            "Epoch 4/10\n",
            "1220/1220 [==============================] - 170s 139ms/step - loss: 1.4504 - accuracy: 0.6645 - val_loss: 1.7992 - val_accuracy: 0.5712 - lr: 8.1873e-04\n",
            "Epoch 5/10\n",
            "1220/1220 [==============================] - 170s 139ms/step - loss: 1.1970 - accuracy: 0.7212 - val_loss: 1.7036 - val_accuracy: 0.5876 - lr: 7.4082e-04\n",
            "Epoch 6/10\n",
            "1220/1220 [==============================] - 170s 140ms/step - loss: 1.0187 - accuracy: 0.7607 - val_loss: 1.5172 - val_accuracy: 0.6263 - lr: 6.7032e-04\n",
            "Epoch 7/10\n",
            "1220/1220 [==============================] - 170s 140ms/step - loss: 0.8912 - accuracy: 0.7910 - val_loss: 1.4835 - val_accuracy: 0.6313 - lr: 6.0653e-04\n",
            "Epoch 8/10\n",
            "1220/1220 [==============================] - 170s 140ms/step - loss: 0.7888 - accuracy: 0.8158 - val_loss: 1.3742 - val_accuracy: 0.6648 - lr: 5.4881e-04\n",
            "Epoch 9/10\n",
            "1220/1220 [==============================] - 170s 139ms/step - loss: 0.7074 - accuracy: 0.8349 - val_loss: 1.2494 - val_accuracy: 0.6908 - lr: 4.9659e-04\n",
            "Epoch 10/10\n",
            "1220/1220 [==============================] - 170s 139ms/step - loss: 0.6464 - accuracy: 0.8500 - val_loss: 1.1850 - val_accuracy: 0.7017 - lr: 4.4933e-04\n"
          ]
        },
        {
          "output_type": "execute_result",
          "data": {
            "text/plain": [
              "<keras.callbacks.History at 0x7fd6c8b6abd0>"
            ]
          },
          "metadata": {},
          "execution_count": 31
        }
      ]
    }
  ]
}