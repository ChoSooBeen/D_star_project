{
  "nbformat": 4,
  "nbformat_minor": 0,
  "metadata": {
    "colab": {
      "provenance": [],
      "collapsed_sections": [],
      "toc_visible": true
    },
    "kernelspec": {
      "name": "python3",
      "display_name": "Python 3"
    },
    "language_info": {
      "name": "python"
    },
    "accelerator": "GPU"
  },
  "cells": [
    {
      "cell_type": "markdown",
      "source": [
        "# 대스타\n",
        "\n",
        "모델 확인"
      ],
      "metadata": {
        "id": "RI5uKwS3sPiB"
      }
    },
    {
      "cell_type": "markdown",
      "source": [
        "### Library"
      ],
      "metadata": {
        "id": "cvKSSlPPsUlM"
      }
    },
    {
      "cell_type": "code",
      "execution_count": null,
      "metadata": {
        "id": "AensEwuuq5H1"
      },
      "outputs": [],
      "source": [
        "import os.path\n",
        "import cv2\n",
        "import numpy as np\n",
        "import pandas as pd\n",
        "import matplotlib.pyplot as plt\n",
        "import tensorflow as tf\n",
        "import seaborn as sns\n",
        "\n",
        "from pathlib import Path\n",
        "from tqdm import tqdm\n",
        "from time import perf_counter\n",
        "\n",
        "from sklearn.model_selection import train_test_split\n",
        "from sklearn.metrics import classification_report,accuracy_score\n",
        "from IPython.display import Markdown, display\n",
        "\n",
        "import zipfile\n",
        "import gdown"
      ]
    },
    {
      "cell_type": "markdown",
      "source": [
        "## train"
      ],
      "metadata": {
        "id": "qO2Ferg04u4R"
      }
    },
    {
      "cell_type": "markdown",
      "source": [
        "### train Data Dwonload"
      ],
      "metadata": {
        "id": "BlgCioKfsW8O"
      }
    },
    {
      "cell_type": "code",
      "source": [
        "google_path = 'https://drive.google.com/uc?id='\n",
        "file_id = '1bXqNgPQVaDdRHEaFPBsHOq2iUsBglGNK'\n",
        "output_name = 'train.zip'\n",
        "gdown.download(google_path+file_id,output_name)"
      ],
      "metadata": {
        "colab": {
          "base_uri": "https://localhost:8080/",
          "height": 108
        },
        "id": "9cBJKGzI4Nrn",
        "outputId": "82e87c65-7d18-4e62-ab0b-f623f43aad1f"
      },
      "execution_count": null,
      "outputs": [
        {
          "output_type": "stream",
          "name": "stderr",
          "text": [
            "Downloading...\n",
            "From: https://drive.google.com/uc?id=1bXqNgPQVaDdRHEaFPBsHOq2iUsBglGNK\n",
            "To: /content/train.zip\n",
            "100%|██████████| 1.37G/1.37G [00:09<00:00, 140MB/s]\n"
          ]
        },
        {
          "output_type": "execute_result",
          "data": {
            "text/plain": [
              "'train.zip'"
            ],
            "application/vnd.google.colaboratory.intrinsic+json": {
              "type": "string"
            }
          },
          "metadata": {},
          "execution_count": 2
        }
      ]
    },
    {
      "cell_type": "code",
      "source": [
        "input_path = './train.zip'\n",
        "output_path = './data'"
      ],
      "metadata": {
        "id": "bf4CAVkU4TT0"
      },
      "execution_count": null,
      "outputs": []
    },
    {
      "cell_type": "code",
      "source": [
        "zip_data = zipfile.ZipFile(input_path)\n",
        "zip_data.extractall(output_path)"
      ],
      "metadata": {
        "id": "MZ3h1vkj4UPI"
      },
      "execution_count": null,
      "outputs": []
    },
    {
      "cell_type": "code",
      "source": [
        "dir_ = Path('/content/data/re_train')\n",
        "filepaths = list(dir_.glob(r'**/*.jpg'))"
      ],
      "metadata": {
        "id": "Mb2zEDkj4kXl"
      },
      "execution_count": null,
      "outputs": []
    },
    {
      "cell_type": "markdown",
      "source": [
        "### Data Prcessing"
      ],
      "metadata": {
        "id": "p5miCIgn5pDD"
      }
    },
    {
      "cell_type": "code",
      "source": [
        "def proc_img(filepath):\n",
        "    \"\"\"\n",
        "   \t\t이미지데이터의 경로와 label데이터로 데이터프레임 만들기 \n",
        "    \"\"\"\n",
        "\n",
        "    labels = [str(filepath[i]).split(\"/\")[-2] \\\n",
        "              for i in range(len(filepath))]\n",
        "\n",
        "    filepath = pd.Series(filepath, name='Filepath').astype(str)\n",
        "    labels = pd.Series(labels, name='Label')\n",
        "\n",
        "    # 경로와 라벨 concatenate\n",
        "    df = pd.concat([filepath, labels], axis=1)\n",
        "\n",
        "    # index 재설정\n",
        "    df = df.sample(frac=1,random_state=0).reset_index(drop = True)\n",
        "    \n",
        "    return df"
      ],
      "metadata": {
        "id": "Lxy5PNCi4mz8"
      },
      "execution_count": null,
      "outputs": []
    },
    {
      "cell_type": "code",
      "source": [
        "df = proc_img(filepaths)"
      ],
      "metadata": {
        "id": "vrDZtGO44o_4"
      },
      "execution_count": null,
      "outputs": []
    },
    {
      "cell_type": "markdown",
      "source": [
        "### train, test split"
      ],
      "metadata": {
        "id": "SO3m0bOH5sMh"
      }
    },
    {
      "cell_type": "code",
      "source": [
        "# Training/test split\n",
        "# train_df,test_df = train_test_split(df.sample(frac=0.2), test_size=0.1,random_state=0) #모델링 시간이 오래걸리면 사용\n",
        "train_df,test_df = train_test_split(df, test_size=0.1,random_state=0)\n",
        "train_df.shape,test_df.shape"
      ],
      "metadata": {
        "id": "KBcDYKl14tiY",
        "colab": {
          "base_uri": "https://localhost:8080/"
        },
        "outputId": "4bdff47b-805e-43b3-ad8e-954b204f2b22"
      },
      "execution_count": null,
      "outputs": [
        {
          "output_type": "execute_result",
          "data": {
            "text/plain": [
              "((38908, 2), (4324, 2))"
            ]
          },
          "metadata": {},
          "execution_count": 8
        }
      ]
    },
    {
      "cell_type": "code",
      "source": [
        "from keras.preprocessing.image import ImageDataGenerator\n",
        "\n",
        "train_datagen = ImageDataGenerator(validation_split=0.2)\n",
        "\n",
        "train_gen = train_datagen.flow_from_directory('/content/data/re_train',\n",
        "                                                 target_size = (256, 256),\n",
        "                                                 batch_size = 32,\n",
        "                                                 class_mode = 'categorical',subset='training')\n",
        "val_gen  = train_datagen.flow_from_directory('/content/data/re_train',\n",
        "                                                 target_size = (256, 256),\n",
        "                                                 batch_size = 32,\n",
        "                                                 class_mode = 'categorical',subset='validation')"
      ],
      "metadata": {
        "id": "_A0UtGur4xbG",
        "colab": {
          "base_uri": "https://localhost:8080/"
        },
        "outputId": "f27b8e2c-bcae-4976-97c9-b82b1df3694c"
      },
      "execution_count": null,
      "outputs": [
        {
          "output_type": "stream",
          "name": "stdout",
          "text": [
            "Found 34704 images belonging to 309 classes.\n",
            "Found 8528 images belonging to 309 classes.\n"
          ]
        }
      ]
    },
    {
      "cell_type": "markdown",
      "source": [
        "### CNN 정의"
      ],
      "metadata": {
        "id": "-fBDUK-e5wVq"
      }
    },
    {
      "cell_type": "code",
      "source": [
        "# Initialising the CNN\n",
        "cnn = tf.keras.models.Sequential()\n",
        "\n",
        "# Step 1 - Convolution\n",
        "cnn.add(tf.keras.layers.Conv2D(filters=32, kernel_size=3, activation='relu', input_shape=[256, 256, 3]))\n",
        "\n",
        "# Step 2 - Pooling\n",
        "cnn.add(tf.keras.layers.MaxPool2D(pool_size=2, strides=2))\n",
        "\n",
        "# Adding convolutional layer\n",
        "cnn.add(tf.keras.layers.Conv2D(filters=32, kernel_size=3, activation='relu'))\n",
        "cnn.add(tf.keras.layers.MaxPool2D(pool_size=2, strides=2))\n",
        "\n",
        "# Step 3 - Flattening\n",
        "cnn.add(tf.keras.layers.Flatten())\n",
        "\n",
        "# Step 4 - Full Connection\n",
        "cnn.add(tf.keras.layers.Dense(units=128, activation='relu'))\n",
        "\n",
        "# Step 5 - Output Layer\n",
        "cnn.add(tf.keras.layers.Dense(units=309, activation='softmax'))\n",
        "\n",
        "# Compiling the CNN\n",
        "cnn.compile(optimizer = 'adam', \n",
        "            loss = 'categorical_crossentropy', \n",
        "            metrics = ['accuracy'])\n",
        "cnn.summary()"
      ],
      "metadata": {
        "id": "e4qQ646d41Am",
        "colab": {
          "base_uri": "https://localhost:8080/"
        },
        "outputId": "b85655ec-a4b6-444c-f168-9fdb367cba9d"
      },
      "execution_count": null,
      "outputs": [
        {
          "output_type": "stream",
          "name": "stdout",
          "text": [
            "Model: \"sequential\"\n",
            "_________________________________________________________________\n",
            " Layer (type)                Output Shape              Param #   \n",
            "=================================================================\n",
            " conv2d (Conv2D)             (None, 254, 254, 32)      896       \n",
            "                                                                 \n",
            " max_pooling2d (MaxPooling2D  (None, 127, 127, 32)     0         \n",
            " )                                                               \n",
            "                                                                 \n",
            " conv2d_1 (Conv2D)           (None, 125, 125, 32)      9248      \n",
            "                                                                 \n",
            " max_pooling2d_1 (MaxPooling  (None, 62, 62, 32)       0         \n",
            " 2D)                                                             \n",
            "                                                                 \n",
            " flatten (Flatten)           (None, 123008)            0         \n",
            "                                                                 \n",
            " dense (Dense)               (None, 128)               15745152  \n",
            "                                                                 \n",
            " dense_1 (Dense)             (None, 309)               39861     \n",
            "                                                                 \n",
            "=================================================================\n",
            "Total params: 15,795,157\n",
            "Trainable params: 15,795,157\n",
            "Non-trainable params: 0\n",
            "_________________________________________________________________\n"
          ]
        }
      ]
    },
    {
      "cell_type": "markdown",
      "source": [
        "### CNN 학습"
      ],
      "metadata": {
        "id": "KBtoXRSo5z2n"
      }
    },
    {
      "cell_type": "code",
      "source": [
        "cnn.fit(x = train_gen, validation_data = val_gen, epochs = 10)"
      ],
      "metadata": {
        "id": "aDPNX5J94254",
        "colab": {
          "base_uri": "https://localhost:8080/"
        },
        "outputId": "7ef13de2-dd71-4daa-d6af-f402e6be6612"
      },
      "execution_count": null,
      "outputs": [
        {
          "output_type": "stream",
          "name": "stdout",
          "text": [
            "Epoch 1/10\n",
            "1085/1085 [==============================] - 119s 99ms/step - loss: 7.8323 - accuracy: 0.2237 - val_loss: 3.1876 - val_accuracy: 0.4036\n",
            "Epoch 2/10\n",
            "1085/1085 [==============================] - 107s 98ms/step - loss: 1.8744 - accuracy: 0.6264 - val_loss: 2.2268 - val_accuracy: 0.5577\n",
            "Epoch 3/10\n",
            "1085/1085 [==============================] - 106s 98ms/step - loss: 1.0933 - accuracy: 0.7661 - val_loss: 2.0890 - val_accuracy: 0.5868\n",
            "Epoch 4/10\n",
            "1085/1085 [==============================] - 106s 98ms/step - loss: 0.7563 - accuracy: 0.8344 - val_loss: 1.9552 - val_accuracy: 0.6229\n",
            "Epoch 5/10\n",
            "1085/1085 [==============================] - 106s 98ms/step - loss: 0.5827 - accuracy: 0.8725 - val_loss: 2.1942 - val_accuracy: 0.6079\n",
            "Epoch 6/10\n",
            "1085/1085 [==============================] - 107s 99ms/step - loss: 0.7216 - accuracy: 0.8526 - val_loss: 2.5347 - val_accuracy: 0.6113\n",
            "Epoch 7/10\n",
            "1085/1085 [==============================] - 106s 97ms/step - loss: 0.5502 - accuracy: 0.8827 - val_loss: 1.9852 - val_accuracy: 0.6510\n",
            "Epoch 8/10\n",
            "1085/1085 [==============================] - 106s 98ms/step - loss: 0.3882 - accuracy: 0.9143 - val_loss: 1.8736 - val_accuracy: 0.6947\n",
            "Epoch 9/10\n",
            "1085/1085 [==============================] - 104s 96ms/step - loss: 0.8176 - accuracy: 0.8433 - val_loss: 2.6307 - val_accuracy: 0.6347\n",
            "Epoch 10/10\n",
            "1085/1085 [==============================] - 105s 97ms/step - loss: 0.4909 - accuracy: 0.8965 - val_loss: 1.8024 - val_accuracy: 0.7233\n"
          ]
        },
        {
          "output_type": "execute_result",
          "data": {
            "text/plain": [
              "<keras.callbacks.History at 0x7f83d026d2d0>"
            ]
          },
          "metadata": {},
          "execution_count": 11
        }
      ]
    },
    {
      "cell_type": "markdown",
      "source": [
        "### 모델 성능 개선"
      ],
      "metadata": {
        "id": "Isk1r0Lb523u"
      }
    },
    {
      "cell_type": "code",
      "source": [
        "def create_gen():\n",
        "    # 생성기 및 데이터 증강으로 이미지 로드\n",
        "    train_generator = tf.keras.preprocessing.image.ImageDataGenerator(\n",
        "        preprocessing_function=tf.keras.applications.mobilenet_v2.preprocess_input,\n",
        "        validation_split=0.1\n",
        "    )\n",
        "\n",
        "    test_generator = tf.keras.preprocessing.image.ImageDataGenerator(\n",
        "        preprocessing_function=tf.keras.applications.mobilenet_v2.preprocess_input\n",
        "    )\n",
        "\n",
        "    train_images = train_generator.flow_from_dataframe(\n",
        "        dataframe=train_df,\n",
        "        x_col='Filepath', # 파일위치 열이름\n",
        "        y_col='Label', # 클래스 열이름\n",
        "        target_size=(256, 256), # 이미지 사이즈\n",
        "        color_mode='rgb', # 이미지 채널수\n",
        "        class_mode='categorical', # Y값(Label값)\n",
        "        batch_size=32,\n",
        "        shuffle=True, # 데이터를 섞을지 여부\n",
        "        seed=0,\n",
        "        subset='training', # train 인지 val인지 설정\n",
        "        fill_mode=\"nearest\"\n",
        "        # 이미지 변경시 보완 방법 (constant, nearest, reflect, wrap) 4개 존재\n",
        "    )\n",
        "\n",
        "    val_images = train_generator.flow_from_dataframe(\n",
        "        dataframe=train_df,\n",
        "        x_col='Filepath',\n",
        "        y_col='Label',\n",
        "        target_size=(256, 256),\n",
        "        color_mode='rgb',\n",
        "        class_mode='categorical',\n",
        "        batch_size=32,\n",
        "        shuffle=True,\n",
        "        seed=0,\n",
        "        subset='validation',\n",
        "        fill_mode=\"nearest\"\n",
        "    )\n",
        "\n",
        "    test_images = test_generator.flow_from_dataframe(\n",
        "        dataframe=test_df,\n",
        "        x_col='Filepath',\n",
        "        y_col='Label',\n",
        "        target_size=(256, 256),\n",
        "        color_mode='rgb',\n",
        "        class_mode='categorical',\n",
        "        batch_size=32,\n",
        "        shuffle=False\n",
        "    )\n",
        "    \n",
        "    return train_generator,test_generator,train_images,val_images,test_images"
      ],
      "metadata": {
        "id": "3hiFQXGB44nT"
      },
      "execution_count": null,
      "outputs": []
    },
    {
      "cell_type": "markdown",
      "source": [
        "### 사전 학습 모델 사용 : ResNet50V2"
      ],
      "metadata": {
        "id": "PZVKwtD-57cG"
      }
    },
    {
      "cell_type": "code",
      "source": [
        "models = {\n",
        "    \"ResNet50V2\": {\"model\":tf.keras.applications.ResNet50V2, \"perf\":0}\n",
        "}"
      ],
      "metadata": {
        "id": "ewXffs9k48Cw"
      },
      "execution_count": null,
      "outputs": []
    },
    {
      "cell_type": "code",
      "source": [
        "# Create the generators\n",
        "train_generator,test_generator,train_images,val_images,test_images=create_gen()"
      ],
      "metadata": {
        "id": "CXfVV2LG5GFW",
        "colab": {
          "base_uri": "https://localhost:8080/"
        },
        "outputId": "b8de838d-055d-4a9d-8fbc-f23ee405d7ab"
      },
      "execution_count": null,
      "outputs": [
        {
          "output_type": "stream",
          "name": "stdout",
          "text": [
            "Found 35018 validated image filenames belonging to 309 classes.\n",
            "Found 3890 validated image filenames belonging to 309 classes.\n",
            "Found 4324 validated image filenames belonging to 309 classes.\n"
          ]
        }
      ]
    },
    {
      "cell_type": "code",
      "source": [
        "def get_model(model):\n",
        "# Load the pretained model\n",
        "    kwargs =    {'input_shape':(256, 256, 3),\n",
        "                'include_top':False,\n",
        "                'weights':'imagenet',\n",
        "                'pooling':'avg'}\n",
        "    \n",
        "    pretrained_model = model(**kwargs)\n",
        "    pretrained_model.trainable = False # 레이어를 동결 시켜서 훈련중 손실을 최소화 한다.\n",
        "    \n",
        "    inputs = pretrained_model.input\n",
        "\n",
        "    x = tf.keras.layers.Dense(128, activation='relu')(pretrained_model.output)\n",
        "    x = tf.keras.layers.Dense(128, activation='relu')(x)\n",
        "\n",
        "    outputs = tf.keras.layers.Dense(309, activation='softmax')(x)\n",
        "    # 라벨 개수가 309개이기 때문에 Dencs도 309로 설정\n",
        "    model = tf.keras.Model(inputs=inputs, outputs=outputs)\n",
        "\n",
        "    model.compile(\n",
        "        optimizer='adam',\n",
        "        loss='categorical_crossentropy',\n",
        "        metrics=['accuracy']\n",
        "    )\n",
        "    \n",
        "    return model"
      ],
      "metadata": {
        "id": "1kpbccpg5GiO"
      },
      "execution_count": null,
      "outputs": []
    },
    {
      "cell_type": "code",
      "source": [
        "# Train모델 학습\n",
        "for name, model in models.items():\n",
        "    \n",
        "    # 전이 학습 모델 가져오기\n",
        "    m = get_model(model['model'])\n",
        "    models[name]['model'] = m\n",
        "    \n",
        "    start = perf_counter()\n",
        "    \n",
        "    # 모델 학습\n",
        "    history = m.fit(train_images,validation_data=val_images,epochs=1,verbose=0)\n",
        "    \n",
        "    # 학습시간과 val_accuracy 저장\n",
        "    duration = perf_counter() - start\n",
        "    duration = round(duration,2)\n",
        "    models[name]['perf'] = duration\n",
        "    print(f\"{name:20} trained in {duration} sec\")\n",
        "    \n",
        "    val_acc = history.history['val_accuracy']\n",
        "    models[name]['val_acc'] = [round(v,4) for v in val_acc]"
      ],
      "metadata": {
        "id": "cf2mr8N25JS_",
        "colab": {
          "base_uri": "https://localhost:8080/"
        },
        "outputId": "1e5bae98-691b-4572-d3b0-bb5b316c7421"
      },
      "execution_count": null,
      "outputs": [
        {
          "output_type": "stream",
          "name": "stdout",
          "text": [
            "Downloading data from https://storage.googleapis.com/tensorflow/keras-applications/resnet/resnet50v2_weights_tf_dim_ordering_tf_kernels_notop.h5\n",
            "94674944/94668760 [==============================] - 1s 0us/step\n",
            "94683136/94668760 [==============================] - 1s 0us/step\n",
            "ResNet50V2           trained in 145.31 sec\n"
          ]
        }
      ]
    },
    {
      "cell_type": "code",
      "source": [
        "train_df,test_df = train_test_split(df, test_size=0.1, random_state=0)\n",
        "train_generator,test_generator,train_images,val_images,test_images=create_gen()\n",
        "\n",
        "model = get_model(tf.keras.applications.ResNet50V2)\n",
        "history = model.fit(train_images,validation_data=val_images,epochs=10)"
      ],
      "metadata": {
        "id": "wJ84LQW_5RxN",
        "colab": {
          "base_uri": "https://localhost:8080/"
        },
        "outputId": "42c5648f-bf69-4019-8fab-7e2e1f6db358"
      },
      "execution_count": null,
      "outputs": [
        {
          "output_type": "stream",
          "name": "stdout",
          "text": [
            "Found 35018 validated image filenames belonging to 309 classes.\n",
            "Found 3890 validated image filenames belonging to 309 classes.\n",
            "Found 4324 validated image filenames belonging to 309 classes.\n",
            "Epoch 1/10\n",
            "1095/1095 [==============================] - 150s 134ms/step - loss: 1.7795 - accuracy: 0.6069 - val_loss: 0.7542 - val_accuracy: 0.8046\n",
            "Epoch 2/10\n",
            "1095/1095 [==============================] - 146s 134ms/step - loss: 0.5021 - accuracy: 0.8607 - val_loss: 0.4836 - val_accuracy: 0.8535\n",
            "Epoch 3/10\n",
            "1095/1095 [==============================] - 147s 134ms/step - loss: 0.3060 - accuracy: 0.9099 - val_loss: 0.3838 - val_accuracy: 0.8841\n",
            "Epoch 4/10\n",
            "1095/1095 [==============================] - 149s 136ms/step - loss: 0.2188 - accuracy: 0.9348 - val_loss: 0.3549 - val_accuracy: 0.8964\n",
            "Epoch 5/10\n",
            "1095/1095 [==============================] - 147s 134ms/step - loss: 0.1702 - accuracy: 0.9468 - val_loss: 0.2886 - val_accuracy: 0.9144\n",
            "Epoch 6/10\n",
            "1095/1095 [==============================] - 146s 133ms/step - loss: 0.1513 - accuracy: 0.9527 - val_loss: 0.2724 - val_accuracy: 0.9190\n",
            "Epoch 7/10\n",
            "1095/1095 [==============================] - 146s 133ms/step - loss: 0.1210 - accuracy: 0.9614 - val_loss: 0.2745 - val_accuracy: 0.9260\n",
            "Epoch 8/10\n",
            "1095/1095 [==============================] - 146s 133ms/step - loss: 0.1173 - accuracy: 0.9641 - val_loss: 0.2648 - val_accuracy: 0.9262\n",
            "Epoch 9/10\n",
            "1095/1095 [==============================] - 146s 133ms/step - loss: 0.0916 - accuracy: 0.9716 - val_loss: 0.2728 - val_accuracy: 0.9244\n",
            "Epoch 10/10\n",
            "1095/1095 [==============================] - 146s 133ms/step - loss: 0.1029 - accuracy: 0.9683 - val_loss: 0.2916 - val_accuracy: 0.9254\n"
          ]
        }
      ]
    },
    {
      "cell_type": "code",
      "source": [
        "# Predict the label of the test_images\n",
        "pred = model.predict(test_images)\n",
        "pred = np.argmax(pred,axis=1)\n",
        "\n",
        "# Map the label\n",
        "labels = (train_images.class_indices)\n",
        "labels = dict((v,k) for k,v in labels.items())\n",
        "pred = [labels[k] for k in pred]\n",
        "\n",
        "def printmd(string):\n",
        "    # Print with Markdowns    \n",
        "    display(Markdown(string))\n",
        "    \n",
        "y_test = list(test_df.Label)\n",
        "acc = accuracy_score(y_test,pred)\n",
        "printmd(f'# Accuracy on the test set: {acc * 100:.2f}%')"
      ],
      "metadata": {
        "id": "anUGY1tI6GRQ",
        "colab": {
          "base_uri": "https://localhost:8080/",
          "height": 74
        },
        "outputId": "9ad15df0-bce6-4e95-cef2-28353894ddbd"
      },
      "execution_count": null,
      "outputs": [
        {
          "output_type": "display_data",
          "data": {
            "text/plain": [
              "<IPython.core.display.Markdown object>"
            ],
            "text/markdown": "# Accuracy on the test set: 92.65%"
          },
          "metadata": {}
        }
      ]
    },
    {
      "cell_type": "code",
      "source": [
        "model.save('my_model.h5')"
      ],
      "metadata": {
        "id": "gyl6CVF7Td02"
      },
      "execution_count": null,
      "outputs": []
    },
    {
      "cell_type": "markdown",
      "source": [
        "## predict"
      ],
      "metadata": {
        "id": "T0j7Mb7O5dLa"
      }
    },
    {
      "cell_type": "markdown",
      "source": [
        "### Answer Data Dwonload"
      ],
      "metadata": {
        "id": "YKuSBkEL6gIf"
      }
    },
    {
      "cell_type": "code",
      "source": [
        "google_path = 'https://drive.google.com/uc?id='\n",
        "file_id = '1TCdM4b9DI_U7Z-Fyu263NVwEtaLdaCvb'\n",
        "output_name = 'data.zip'\n",
        "gdown.download(google_path+file_id,output_name)"
      ],
      "metadata": {
        "id": "KFNadTGeC5KP",
        "colab": {
          "base_uri": "https://localhost:8080/",
          "height": 108
        },
        "outputId": "c3d6a227-4b71-48cb-9740-2db5bb597f9b"
      },
      "execution_count": null,
      "outputs": [
        {
          "output_type": "stream",
          "name": "stderr",
          "text": [
            "Downloading...\n",
            "From: https://drive.google.com/uc?id=1TCdM4b9DI_U7Z-Fyu263NVwEtaLdaCvb\n",
            "To: /content/data.zip\n",
            "100%|██████████| 2.70G/2.70G [00:44<00:00, 60.2MB/s]\n"
          ]
        },
        {
          "output_type": "execute_result",
          "data": {
            "text/plain": [
              "'data.zip'"
            ],
            "application/vnd.google.colaboratory.intrinsic+json": {
              "type": "string"
            }
          },
          "metadata": {},
          "execution_count": 20
        }
      ]
    },
    {
      "cell_type": "code",
      "source": [
        "input_path = './data.zip'\n",
        "output_path = './data'"
      ],
      "metadata": {
        "id": "r6FtZ42IDFIy"
      },
      "execution_count": null,
      "outputs": []
    },
    {
      "cell_type": "code",
      "source": [
        "zip_data = zipfile.ZipFile(input_path)\n",
        "zip_data.extractall(output_path)"
      ],
      "metadata": {
        "id": "cd4n2J_EDIHV"
      },
      "execution_count": null,
      "outputs": []
    },
    {
      "cell_type": "markdown",
      "source": [
        "### answer "
      ],
      "metadata": {
        "id": "uYducy48UUAf"
      }
    },
    {
      "cell_type": "code",
      "source": [
        "#빈 DataFrame 생성\n",
        "answer = pd.DataFrame()\n",
        "\n",
        "answer"
      ],
      "metadata": {
        "colab": {
          "base_uri": "https://localhost:8080/",
          "height": 49
        },
        "id": "dfa33SgjUTsu",
        "outputId": "8a02c313-eb5f-4d04-8f6e-08f2dfa8dbdf"
      },
      "execution_count": null,
      "outputs": [
        {
          "output_type": "execute_result",
          "data": {
            "text/plain": [
              "Empty DataFrame\n",
              "Columns: []\n",
              "Index: []"
            ],
            "text/html": [
              "\n",
              "  <div id=\"df-ec8f3ff7-4038-4f94-95f0-9c4bf565a7d7\">\n",
              "    <div class=\"colab-df-container\">\n",
              "      <div>\n",
              "<style scoped>\n",
              "    .dataframe tbody tr th:only-of-type {\n",
              "        vertical-align: middle;\n",
              "    }\n",
              "\n",
              "    .dataframe tbody tr th {\n",
              "        vertical-align: top;\n",
              "    }\n",
              "\n",
              "    .dataframe thead th {\n",
              "        text-align: right;\n",
              "    }\n",
              "</style>\n",
              "<table border=\"1\" class=\"dataframe\">\n",
              "  <thead>\n",
              "    <tr style=\"text-align: right;\">\n",
              "      <th></th>\n",
              "    </tr>\n",
              "  </thead>\n",
              "  <tbody>\n",
              "  </tbody>\n",
              "</table>\n",
              "</div>\n",
              "      <button class=\"colab-df-convert\" onclick=\"convertToInteractive('df-ec8f3ff7-4038-4f94-95f0-9c4bf565a7d7')\"\n",
              "              title=\"Convert this dataframe to an interactive table.\"\n",
              "              style=\"display:none;\">\n",
              "        \n",
              "  <svg xmlns=\"http://www.w3.org/2000/svg\" height=\"24px\"viewBox=\"0 0 24 24\"\n",
              "       width=\"24px\">\n",
              "    <path d=\"M0 0h24v24H0V0z\" fill=\"none\"/>\n",
              "    <path d=\"M18.56 5.44l.94 2.06.94-2.06 2.06-.94-2.06-.94-.94-2.06-.94 2.06-2.06.94zm-11 1L8.5 8.5l.94-2.06 2.06-.94-2.06-.94L8.5 2.5l-.94 2.06-2.06.94zm10 10l.94 2.06.94-2.06 2.06-.94-2.06-.94-.94-2.06-.94 2.06-2.06.94z\"/><path d=\"M17.41 7.96l-1.37-1.37c-.4-.4-.92-.59-1.43-.59-.52 0-1.04.2-1.43.59L10.3 9.45l-7.72 7.72c-.78.78-.78 2.05 0 2.83L4 21.41c.39.39.9.59 1.41.59.51 0 1.02-.2 1.41-.59l7.78-7.78 2.81-2.81c.8-.78.8-2.07 0-2.86zM5.41 20L4 18.59l7.72-7.72 1.47 1.35L5.41 20z\"/>\n",
              "  </svg>\n",
              "      </button>\n",
              "      \n",
              "  <style>\n",
              "    .colab-df-container {\n",
              "      display:flex;\n",
              "      flex-wrap:wrap;\n",
              "      gap: 12px;\n",
              "    }\n",
              "\n",
              "    .colab-df-convert {\n",
              "      background-color: #E8F0FE;\n",
              "      border: none;\n",
              "      border-radius: 50%;\n",
              "      cursor: pointer;\n",
              "      display: none;\n",
              "      fill: #1967D2;\n",
              "      height: 32px;\n",
              "      padding: 0 0 0 0;\n",
              "      width: 32px;\n",
              "    }\n",
              "\n",
              "    .colab-df-convert:hover {\n",
              "      background-color: #E2EBFA;\n",
              "      box-shadow: 0px 1px 2px rgba(60, 64, 67, 0.3), 0px 1px 3px 1px rgba(60, 64, 67, 0.15);\n",
              "      fill: #174EA6;\n",
              "    }\n",
              "\n",
              "    [theme=dark] .colab-df-convert {\n",
              "      background-color: #3B4455;\n",
              "      fill: #D2E3FC;\n",
              "    }\n",
              "\n",
              "    [theme=dark] .colab-df-convert:hover {\n",
              "      background-color: #434B5C;\n",
              "      box-shadow: 0px 1px 3px 1px rgba(0, 0, 0, 0.15);\n",
              "      filter: drop-shadow(0px 1px 2px rgba(0, 0, 0, 0.3));\n",
              "      fill: #FFFFFF;\n",
              "    }\n",
              "  </style>\n",
              "\n",
              "      <script>\n",
              "        const buttonEl =\n",
              "          document.querySelector('#df-ec8f3ff7-4038-4f94-95f0-9c4bf565a7d7 button.colab-df-convert');\n",
              "        buttonEl.style.display =\n",
              "          google.colab.kernel.accessAllowed ? 'block' : 'none';\n",
              "\n",
              "        async function convertToInteractive(key) {\n",
              "          const element = document.querySelector('#df-ec8f3ff7-4038-4f94-95f0-9c4bf565a7d7');\n",
              "          const dataTable =\n",
              "            await google.colab.kernel.invokeFunction('convertToInteractive',\n",
              "                                                     [key], {});\n",
              "          if (!dataTable) return;\n",
              "\n",
              "          const docLinkHtml = 'Like what you see? Visit the ' +\n",
              "            '<a target=\"_blank\" href=https://colab.research.google.com/notebooks/data_table.ipynb>data table notebook</a>'\n",
              "            + ' to learn more about interactive tables.';\n",
              "          element.innerHTML = '';\n",
              "          dataTable['output_type'] = 'display_data';\n",
              "          await google.colab.output.renderOutput(dataTable, element);\n",
              "          const docLink = document.createElement('div');\n",
              "          docLink.innerHTML = docLinkHtml;\n",
              "          element.appendChild(docLink);\n",
              "        }\n",
              "      </script>\n",
              "    </div>\n",
              "  </div>\n",
              "  "
            ]
          },
          "metadata": {},
          "execution_count": 23
        }
      ]
    },
    {
      "cell_type": "code",
      "source": [
        "q_dir_ = Path('/content/data/questions')\n",
        "q_filepaths = list(dir_.glob(r'**/*.jpg'))\n",
        "\n",
        "t_dir_ = Path('/content/data/test')\n",
        "t_filepaths = list(dir_.glob(r'**/*.jpg'))"
      ],
      "metadata": {
        "id": "gmTlAvN9U8vX"
      },
      "execution_count": null,
      "outputs": []
    },
    {
      "cell_type": "code",
      "source": [
        "from tensorflow.keras.preprocessing import image\n",
        "from tensorflow.keras.applications.inception_resnet_v2 import InceptionResNetV2, preprocess_input"
      ],
      "metadata": {
        "id": "NDGlWpvyVstC"
      },
      "execution_count": null,
      "outputs": []
    },
    {
      "cell_type": "code",
      "source": [
        "IMAGE_SIZE    = (256, 256)\n",
        "label = 0 #동일한 종이 아닌 경우 0\n",
        "\n",
        "q_prediction = {}\n",
        "t_prediction = {}\n",
        "\n",
        "for i in q_filepaths:\n",
        "  q_image = image.load_img(i, target_size =IMAGE_SIZE)\n",
        "  q_image = image.img_to_array(q_image)\n",
        "  q_image = q_image.reshape((1, q_image.shape[0], q_image.shape[1], q_image.shape[2]))\n",
        "  q_image = preprocess_input(q_image)\n",
        "  q_prediction[i] = np.argmax(model.predict(q_image), axis = 1)\n",
        "\n",
        "  \n",
        "for j in t_filepaths:\n",
        "  t_image = image.load_img(j, target_size =IMAGE_SIZE)\n",
        "  t_image = image.img_to_array(t_image)\n",
        "  t_image = t_image.reshape((1, t_image.shape[0], t_image.shape[1], t_image.shape[2]))\n",
        "  t_image = preprocess_input(t_image)\n",
        "  t_prediction[j] = np.argmax(model.predict(t_image), axis = 1)"
      ],
      "metadata": {
        "id": "DvP243V4VQo0"
      },
      "execution_count": null,
      "outputs": []
    },
    {
      "cell_type": "code",
      "source": [
        "for i in q_filepaths:\n",
        "  for j in t_filepaths:\n",
        "    if q_prediction.get(i) == t_prediction.get(j) :\n",
        "      label = 1\n",
        "    else :\n",
        "      label = 0 \n",
        "    answer.append({'question': i, 'target': j,'label' : label}, ignore_index = True)\n",
        "\n",
        "#predict_classes 참고 https://precommer.tistory.com/48"
      ],
      "metadata": {
        "id": "JCbULoVv8uVm"
      },
      "execution_count": null,
      "outputs": []
    },
    {
      "cell_type": "code",
      "source": [
        "#209245 * 3 시트가 만들어져야 함\n",
        "answer.to_csv('/content/data/answer.csv')"
      ],
      "metadata": {
        "id": "L78gAe4lBE8E"
      },
      "execution_count": null,
      "outputs": []
    }
  ]
}