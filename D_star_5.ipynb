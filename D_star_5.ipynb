{
 "cells": [
  {
   "cell_type": "markdown",
   "id": "5bfc4457",
   "metadata": {},
   "source": [
    "# 대스타\n",
    "\n",
    "레이블별 폴더 분류"
   ]
  },
  {
   "cell_type": "markdown",
   "id": "ce2c0d21",
   "metadata": {},
   "source": [
    "### 필요한 라이브러리 선언"
   ]
  },
  {
   "cell_type": "code",
   "execution_count": 2,
   "id": "61e99244",
   "metadata": {},
   "outputs": [],
   "source": [
    "#csv 파일 --> pandas \n",
    "import pandas as pd\n",
    "\n",
    "#파일 경로를 위한 라이브러리\n",
    "import os\n",
    "\n",
    "#파일 이동\n",
    "import shutil"
   ]
  },
  {
   "cell_type": "markdown",
   "id": "3f1c67a6",
   "metadata": {},
   "source": [
    "### 파일 불러오기"
   ]
  },
  {
   "cell_type": "code",
   "execution_count": 3,
   "id": "f86141f9",
   "metadata": {},
   "outputs": [
    {
     "data": {
      "text/plain": [
       "'C:\\\\Users\\\\user\\\\Desktop\\\\train'"
      ]
     },
     "execution_count": 3,
     "metadata": {},
     "output_type": "execute_result"
    }
   ],
   "source": [
    "#현재 작업 폴더 확인\n",
    "\n",
    "os.getcwd()"
   ]
  },
  {
   "cell_type": "code",
   "execution_count": 4,
   "id": "cb4995a9",
   "metadata": {},
   "outputs": [
    {
     "data": {
      "text/plain": [
       "(43232, 2)"
      ]
     },
     "execution_count": 4,
     "metadata": {},
     "output_type": "execute_result"
    }
   ],
   "source": [
    "#pandas로 읽어오기\n",
    "train_df = pd.read_csv(\"re_train.csv\", encoding=\"cp949\")\n",
    "\n",
    "#현재 행과 열 보여주기\n",
    "train_df.shape"
   ]
  },
  {
   "cell_type": "markdown",
   "id": "0ea1cc60",
   "metadata": {},
   "source": [
    "### 폴더 생성하기"
   ]
  },
  {
   "cell_type": "code",
   "execution_count": 5,
   "id": "d2a0f871",
   "metadata": {},
   "outputs": [
    {
     "name": "stdout",
     "output_type": "stream",
     "text": [
      "309\n"
     ]
    },
    {
     "data": {
      "text/plain": [
       "309"
      ]
     },
     "execution_count": 5,
     "metadata": {},
     "output_type": "execute_result"
    }
   ],
   "source": [
    "#종자 이름 리스트 구하기\n",
    "\n",
    "print(len(train_df[\"name\"].unique()))  # type = numpy.array\n",
    "label_list = train_df[\"name\"].unique().tolist()\n",
    "len(label_list)  # type = list --> label_list = 종자이름 리스트"
   ]
  },
  {
   "cell_type": "code",
   "execution_count": 6,
   "id": "03e9c4c8",
   "metadata": {},
   "outputs": [],
   "source": [
    "#폴더 생성함수\n",
    "def createFolder(directory):\n",
    "    try:\n",
    "        if not os.path.exists(directory):\n",
    "            os.makedirs(directory)\n",
    "    except OSError:\n",
    "        print ('Error: Creating directory. ' +  directory)"
   ]
  },
  {
   "cell_type": "code",
   "execution_count": 7,
   "id": "507012fd",
   "metadata": {},
   "outputs": [],
   "source": [
    "#309개의 폴더 생성\n",
    "\n",
    "for i in range(len(label_list)):  # 종자 개수 만큼 \n",
    "  path = os.path.join('C:\\\\Users\\\\user\\\\Desktop\\\\train\\\\re_train', label_list[i]) #폴더 경로 설정 --> re_train 폴더 속에 만든다.\n",
    "  createFolder(path)  # 종자 이름 폴더 생성 "
   ]
  },
  {
   "cell_type": "code",
   "execution_count": 9,
   "id": "9a2bc920",
   "metadata": {},
   "outputs": [
    {
     "data": {
      "text/plain": [
       "43541"
      ]
     },
     "execution_count": 9,
     "metadata": {},
     "output_type": "execute_result"
    }
   ],
   "source": [
    "train_folder = os.listdir('C:\\\\Users\\\\user\\\\Desktop\\\\train\\\\re_train')\n",
    "len(train_folder)  #폴더개수 309 , 사진개수 = 43232개"
   ]
  },
  {
   "cell_type": "markdown",
   "id": "7e5bf2f3",
   "metadata": {},
   "source": [
    "### 이미지 폴더 이동"
   ]
  },
  {
   "cell_type": "code",
   "execution_count": 11,
   "id": "7d6ddc88",
   "metadata": {},
   "outputs": [
    {
     "data": {
      "text/plain": [
       "'네귀쓴풀'"
      ]
     },
     "execution_count": 11,
     "metadata": {},
     "output_type": "execute_result"
    }
   ],
   "source": [
    "#이미지 이름으로 종자이름 가져오기(test)\n",
    "label = str(train_df[train_df.file_name == train_folder[0]].iloc[:,1]).split()[1]\n",
    "\n",
    "label"
   ]
  },
  {
   "cell_type": "code",
   "execution_count": 12,
   "id": "129e40e0",
   "metadata": {},
   "outputs": [],
   "source": [
    "for i in range(len(train_folder) - 309):  # 폴더 생성한것 309개 빼주는 겁니다.  \n",
    "  if train_folder[i][-3:] == \"jpg\":   # 확장자가 jpg면 \n",
    "    # train_df에서 이미지 이름에 맞는 name(종자이름)을 불러와 저장\n",
    "    label = str(train_df[train_df.file_name == train_folder[i]].iloc[:,1]).split()[1] \n",
    "    file_source = f'C:\\\\Users\\\\user\\\\Desktop\\\\train\\\\re_train\\\\{train_folder[i]}' # train 폴더에 있는 해당 이미지를\n",
    "    file_destination =  f'C:\\\\Users\\\\user\\\\Desktop\\\\train\\\\re_train\\\\{label}\\\\{train_folder[i]}' # 해당 label 폴더로 이동 \n",
    "    shutil.move(file_source, file_destination)  # 이동 실행"
   ]
  },
  {
   "cell_type": "markdown",
   "id": "2a78df88",
   "metadata": {},
   "source": [
    "### train, test, val 나누기"
   ]
  },
  {
   "cell_type": "code",
   "execution_count": 1,
   "id": "70817018",
   "metadata": {},
   "outputs": [
    {
     "name": "stdout",
     "output_type": "stream",
     "text": [
      "Defaulting to user installation because normal site-packages is not writeable\n",
      "Collecting split-folders\n",
      "  Downloading split_folders-0.5.1-py3-none-any.whl (8.4 kB)\n",
      "Installing collected packages: split-folders\n",
      "Successfully installed split-folders-0.5.1\n",
      "Note: you may need to restart the kernel to use updated packages.\n"
     ]
    },
    {
     "name": "stderr",
     "output_type": "stream",
     "text": [
      "  WARNING: The scripts split-folders.exe, split_folders.exe and splitfolders.exe are installed in 'C:\\Users\\user\\AppData\\Roaming\\Python\\Python39\\Scripts' which is not on PATH.\n",
      "  Consider adding this directory to PATH or, if you prefer to suppress this warning, use --no-warn-script-location.\n"
     ]
    }
   ],
   "source": [
    "pip install split-folders"
   ]
  },
  {
   "cell_type": "code",
   "execution_count": 1,
   "id": "2c2c990f",
   "metadata": {},
   "outputs": [],
   "source": [
    "import splitfolders"
   ]
  },
  {
   "cell_type": "code",
   "execution_count": 2,
   "id": "c453d7c7",
   "metadata": {},
   "outputs": [
    {
     "name": "stderr",
     "output_type": "stream",
     "text": [
      "Copying files: 43232 files [00:45, 948.39 files/s] \n"
     ]
    }
   ],
   "source": [
    "# train/val/test 나누기\n",
    "# ratio 파라미터에 원하는 (train, validation, test) 비율을 입력합니다. ex) (0.8, 0.1, 0.1)\n",
    "splitfolders.ratio(\"re_train\", output=\"output\", seed=1337, ratio=(.8, .1, .1))"
   ]
  },
  {
   "cell_type": "markdown",
   "id": "3d6593d8",
   "metadata": {},
   "source": [
    "참고 https://lovedh.tistory.com/entry/python-split-folders%EB%A1%9C-%EC%9D%B4%EB%AF%B8%EC%A7%80-%EB%8D%B0%EC%9D%B4%ED%84%B0-%EB%B6%84%EB%A6%AC%ED%95%98%EA%B8%B0-trainvaltest"
   ]
  }
 ],
 "metadata": {
  "kernelspec": {
   "display_name": "Python 3 (ipykernel)",
   "language": "python",
   "name": "python3"
  },
  "language_info": {
   "codemirror_mode": {
    "name": "ipython",
    "version": 3
   },
   "file_extension": ".py",
   "mimetype": "text/x-python",
   "name": "python",
   "nbconvert_exporter": "python",
   "pygments_lexer": "ipython3",
   "version": "3.9.12"
  }
 },
 "nbformat": 4,
 "nbformat_minor": 5
}
