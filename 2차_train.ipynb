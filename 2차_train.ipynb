{
 "cells": [
  {
   "cell_type": "markdown",
   "id": "0cb54005",
   "metadata": {},
   "source": [
    "# 대스타\n",
    "\n",
    "CNN + ResNet50V2 사전 학습 모델 사용"
   ]
  },
  {
   "cell_type": "code",
   "execution_count": null,
   "id": "10971189",
   "metadata": {},
   "outputs": [],
   "source": [
    "import os.path\n",
    "import cv2\n",
    "import numpy as np\n",
    "import pandas as pd\n",
    "import matplotlib.pyplot as plt\n",
    "import tensorflow as tf\n",
    "import seaborn as sns\n",
    "\n",
    "from pathlib import Path\n",
    "from tqdm import tqdm\n",
    "from time import perf_counter\n",
    "\n",
    "from sklearn.model_selection import train_test_split\n",
    "from sklearn.metrics import classification_report,accuracy_score\n",
    "from IPython.display import Markdown, display"
   ]
  },
  {
   "cell_type": "markdown",
   "id": "8641c99e",
   "metadata": {},
   "source": [
    "### train data processing"
   ]
  },
  {
   "cell_type": "code",
   "execution_count": null,
   "id": "e53cba20",
   "metadata": {},
   "outputs": [],
   "source": [
    "train_path = Path('C:/Users/user/Desktop/predict/re_train')"
   ]
  },
  {
   "cell_type": "code",
   "execution_count": null,
   "id": "85c2eef1",
   "metadata": {},
   "outputs": [],
   "source": [
    "train_data = list(train_path.glob(r'**/*.jpg'))"
   ]
  },
  {
   "cell_type": "code",
   "execution_count": null,
   "id": "0d00f3e6",
   "metadata": {},
   "outputs": [],
   "source": [
    "def proc_img(filepath):\n",
    "    \"\"\"\n",
    "   \t\t이미지데이터의 경로와 label데이터로 데이터프레임 만들기 \n",
    "    \"\"\"\n",
    "\n",
    "    labels = [str(filepath[i]).split(\"\\\\\")[-2] \\\n",
    "              for i in range(len(filepath))]\n",
    "\n",
    "    filepath = pd.Series(filepath, name='Filepath').astype(str)\n",
    "    labels = pd.Series(labels, name='Label')\n",
    "\n",
    "    # 경로와 라벨 concatenate\n",
    "    df = pd.concat([filepath, labels], axis=1)\n",
    "\n",
    "    # index 재설정\n",
    "    df = df.sample(frac=1,random_state=0).reset_index(drop = True)\n",
    "    \n",
    "    return df"
   ]
  },
  {
   "cell_type": "code",
   "execution_count": null,
   "id": "73d58076",
   "metadata": {},
   "outputs": [],
   "source": [
    "df = proc_img(train_data)"
   ]
  },
  {
   "cell_type": "markdown",
   "id": "5051f72e",
   "metadata": {},
   "source": [
    "### train, test split"
   ]
  },
  {
   "cell_type": "code",
   "execution_count": null,
   "id": "8589279a",
   "metadata": {},
   "outputs": [],
   "source": [
    "# Training/test split\n",
    "# train_df,test_df = train_test_split(df.sample(frac=0.2), test_size=0.1,random_state=0) #모델링 시간이 오래걸리면 사용\n",
    "train_df,test_df = train_test_split(df, test_size=0.1,random_state=0)\n",
    "train_df.shape,test_df.shape"
   ]
  },
  {
   "cell_type": "code",
   "execution_count": null,
   "id": "d3b2ac9c",
   "metadata": {},
   "outputs": [],
   "source": [
    "from keras.preprocessing.image import ImageDataGenerator\n",
    "\n",
    "train_datagen = ImageDataGenerator(validation_split=0.2)\n",
    "\n",
    "train_gen = train_datagen.flow_from_directory('C:/Users/user/Desktop/predict/re_train',\n",
    "                                                 target_size = (256, 256),\n",
    "                                                 batch_size = 32,\n",
    "                                                 class_mode = 'categorical',subset='training')\n",
    "val_gen  = train_datagen.flow_from_directory('C:/Users/user/Desktop/predict/re_train',\n",
    "                                                 target_size = (256, 256),\n",
    "                                                 batch_size = 32,\n",
    "                                                 class_mode = 'categorical',subset='validation')"
   ]
  },
  {
   "cell_type": "markdown",
   "id": "02c968ab",
   "metadata": {},
   "source": [
    "### CNN 정의"
   ]
  },
  {
   "cell_type": "code",
   "execution_count": null,
   "id": "8288506d",
   "metadata": {},
   "outputs": [],
   "source": [
    "!pip install summary"
   ]
  },
  {
   "cell_type": "code",
   "execution_count": null,
   "id": "fc6176d6",
   "metadata": {},
   "outputs": [],
   "source": [
    "# Initialising the CNN\n",
    "cnn = tf.keras.models.Sequential()\n",
    "\n",
    "# Step 1 - Convolution\n",
    "cnn.add(tf.keras.layers.Conv2D(filters=32, kernel_size=3, activation='relu', input_shape=[256, 256, 3]))\n",
    "\n",
    "# Step 2 - Pooling\n",
    "cnn.add(tf.keras.layers.MaxPool2D(pool_size=2, strides=2))\n",
    "\n",
    "# Adding convolutional layer\n",
    "cnn.add(tf.keras.layers.Conv2D(filters=32, kernel_size=3, activation='relu'))\n",
    "cnn.add(tf.keras.layers.MaxPool2D(pool_size=2, strides=2))\n",
    "\n",
    "# Step 3 - Flattening\n",
    "cnn.add(tf.keras.layers.Flatten())\n",
    "\n",
    "# Step 4 - Full Connection\n",
    "cnn.add(tf.keras.layers.Dense(units=128, activation='relu'))\n",
    "\n",
    "# Step 5 - Output Layer\n",
    "cnn.add(tf.keras.layers.Dense(units=309, activation='softmax'))\n",
    "\n",
    "# Compiling the CNN\n",
    "cnn.compile(optimizer = 'adam', \n",
    "            loss = 'categorical_crossentropy', \n",
    "            metrics = ['accuracy'])\n",
    "cnn.summary()"
   ]
  },
  {
   "cell_type": "code",
   "execution_count": null,
   "id": "6dab7706",
   "metadata": {},
   "outputs": [],
   "source": [
    "cnn.fit(x = train_gen, validation_data = val_gen, epochs = 10)"
   ]
  },
  {
   "cell_type": "markdown",
   "id": "3a4aa470",
   "metadata": {},
   "source": [
    "### 모델 성능 개선\n",
    "\n",
    "증강기법 추가\n",
    "\n",
    "  1.zoom_range=0.15, # 확대 축소 15%\n",
    "  \n",
    "  2.width_shift_range=0.2, # 좌우이동 20%\n",
    "  \n",
    "  3.height_shift_range=0.2, # 상하이동 20%"
   ]
  },
  {
   "cell_type": "code",
   "execution_count": null,
   "id": "e248d9dc",
   "metadata": {},
   "outputs": [],
   "source": [
    "def create_gen():\n",
    "    # 생성기 및 데이터 증강으로 이미지 로드\n",
    "    train_generator = tf.keras.preprocessing.image.ImageDataGenerator(\n",
    "        preprocessing_function=tf.keras.applications.mobilenet_v2.preprocess_input,\n",
    "        validation_split=0.1\n",
    "    )\n",
    "\n",
    "    test_generator = tf.keras.preprocessing.image.ImageDataGenerator(\n",
    "        preprocessing_function=tf.keras.applications.mobilenet_v2.preprocess_input\n",
    "    )\n",
    "\n",
    "    train_images = train_generator.flow_from_dataframe(\n",
    "        dataframe=train_df,\n",
    "        x_col='Filepath', # 파일위치 열이름\n",
    "        y_col='Label', # 클래스 열이름\n",
    "        target_size=(256, 256), # 이미지 사이즈\n",
    "        color_mode='rgb', # 이미지 채널수\n",
    "        class_mode='categorical', # Y값(Label값)\n",
    "        batch_size=32,\n",
    "        shuffle=True, # 데이터를 섞을지 여부\n",
    "        seed=0,\n",
    "        subset='training', # train 인지 val인지 설정\n",
    "        zoom_range=0.15, # 확대 축소 15%\n",
    "        width_shift_range=0.2, # 좌우이동 20%\n",
    "        height_shift_range=0.2, # 상하이동 20%\n",
    "        fill_mode=\"nearest\"\n",
    "        # 이미지 변경시 보완 방법 (constant, nearest, reflect, wrap) 4개 존재\n",
    "    )\n",
    "\n",
    "    val_images = train_generator.flow_from_dataframe(\n",
    "        dataframe=train_df,\n",
    "        x_col='Filepath',\n",
    "        y_col='Label',\n",
    "        target_size=(256, 256),\n",
    "        color_mode='rgb',\n",
    "        class_mode='categorical',\n",
    "        batch_size=32,\n",
    "        shuffle=True,\n",
    "        seed=0,\n",
    "        subset='validation',\n",
    "        zoom_range=0.15, # 확대 축소 15%\n",
    "        width_shift_range=0.2, # 좌우이동 20%\n",
    "        height_shift_range=0.2, # 상하이동 20%\n",
    "        fill_mode=\"nearest\"\n",
    "    )\n",
    "\n",
    "    test_images = test_generator.flow_from_dataframe(\n",
    "        dataframe=test_df,\n",
    "        x_col='Filepath',\n",
    "        y_col='Label',\n",
    "        target_size=(256, 256),\n",
    "        color_mode='rgb',\n",
    "        class_mode='categorical',\n",
    "        batch_size=32,\n",
    "        shuffle=False\n",
    "    )\n",
    "    \n",
    "    return train_generator,test_generator,train_images,val_images,test_images"
   ]
  },
  {
   "cell_type": "markdown",
   "id": "4df1921c",
   "metadata": {},
   "source": [
    "### ResNet50V2 사전학습 모델"
   ]
  },
  {
   "cell_type": "code",
   "execution_count": null,
   "id": "fe199557",
   "metadata": {},
   "outputs": [],
   "source": [
    "models = {\n",
    "    \"ResNet50V2\": {\"model\":tf.keras.applications.ResNet50V2, \"perf\":0}\n",
    "}"
   ]
  },
  {
   "cell_type": "code",
   "execution_count": null,
   "id": "59d3f332",
   "metadata": {},
   "outputs": [],
   "source": [
    "# Create the generators\n",
    "train_generator,test_generator,train_images,val_images,test_images=create_gen()"
   ]
  },
  {
   "cell_type": "code",
   "execution_count": null,
   "id": "35bdd208",
   "metadata": {},
   "outputs": [],
   "source": [
    "def get_model(model):\n",
    "# Load the pretained model\n",
    "    kwargs =    {'input_shape':(256, 256, 3),\n",
    "                'include_top':False,\n",
    "                'weights':'imagenet',\n",
    "                'pooling':'avg'}\n",
    "    \n",
    "    pretrained_model = model(**kwargs)\n",
    "    pretrained_model.trainable = False # 레이어를 동결 시켜서 훈련중 손실을 최소화 한다.\n",
    "    \n",
    "    inputs = pretrained_model.input\n",
    "\n",
    "    x = tf.keras.layers.Dense(128, activation='relu')(pretrained_model.output)\n",
    "    x = tf.keras.layers.Dense(128, activation='relu')(x)\n",
    "\n",
    "    outputs = tf.keras.layers.Dense(309, activation='softmax')(x)\n",
    "    # 라벨 개수가 309개이기 때문에 Dencs도 309로 설정\n",
    "    model = tf.keras.Model(inputs=inputs, outputs=outputs)\n",
    "\n",
    "    model.compile(\n",
    "        optimizer='adam',\n",
    "        loss='categorical_crossentropy',\n",
    "        metrics=['accuracy']\n",
    "    )\n",
    "    \n",
    "    return model"
   ]
  },
  {
   "cell_type": "code",
   "execution_count": null,
   "id": "ae6d5e4d",
   "metadata": {},
   "outputs": [],
   "source": [
    "# Train모델 학습\n",
    "for name, model in models.items():\n",
    "    \n",
    "    # 전이 학습 모델 가져오기\n",
    "    m = get_model(model['model'])\n",
    "    models[name]['model'] = m\n",
    "    \n",
    "    start = perf_counter()\n",
    "    \n",
    "    # 모델 학습\n",
    "    history = m.fit(train_images,validation_data=val_images,epochs=1,verbose=0)\n",
    "    \n",
    "    # 학습시간과 val_accuracy 저장\n",
    "    duration = perf_counter() - start\n",
    "    duration = round(duration,2)\n",
    "    models[name]['perf'] = duration\n",
    "    print(f\"{name:20} trained in {duration} sec\")\n",
    "    \n",
    "    val_acc = history.history['val_accuracy']\n",
    "    models[name]['val_acc'] = [round(v,4) for v in val_acc]"
   ]
  },
  {
   "cell_type": "code",
   "execution_count": null,
   "id": "30c4fa49",
   "metadata": {},
   "outputs": [],
   "source": [
    "train_df,test_df = train_test_split(df, test_size=0.1, random_state=0)\n",
    "train_generator,test_generator,train_images,val_images,test_images=create_gen()\n",
    "\n",
    "model = get_model(tf.keras.applications.ResNet50V2)\n",
    "history = model.fit(train_images,validation_data=val_images,epochs=10)"
   ]
  },
  {
   "cell_type": "code",
   "execution_count": null,
   "id": "4280e5da",
   "metadata": {},
   "outputs": [],
   "source": [
    "# Predict the label of the test_images\n",
    "pred = model.predict(test_images)\n",
    "pred = np.argmax(pred,axis=1)\n",
    "\n",
    "# Map the label\n",
    "labels = (train_images.class_indices)\n",
    "labels = dict((v,k) for k,v in labels.items())\n",
    "pred = [labels[k] for k in pred]\n",
    "\n",
    "def printmd(string):\n",
    "    # Print with Markdowns    \n",
    "    display(Markdown(string))\n",
    "    \n",
    "y_test = list(test_df.Label)\n",
    "acc = accuracy_score(y_test,pred)\n",
    "printmd(f'# Accuracy on the test set: {acc * 100:.2f}%')"
   ]
  },
  {
   "cell_type": "markdown",
   "id": "e8289ebe",
   "metadata": {},
   "source": [
    "### predict"
   ]
  },
  {
   "cell_type": "code",
   "execution_count": null,
   "id": "650320a7",
   "metadata": {},
   "outputs": [],
   "source": [
    "#빈 DataFrame 생성\n",
    "answer = pd.DataFrame(columns = {'question', 'target','label'})"
   ]
  },
  {
   "cell_type": "code",
   "execution_count": null,
   "id": "2ea33a1f",
   "metadata": {},
   "outputs": [],
   "source": [
    "q_path = Path('C:/Users/user/Desktop/predict/questions')\n",
    "t_path = Path('C:/Users/user/Desktop/predict/test')"
   ]
  },
  {
   "cell_type": "code",
   "execution_count": null,
   "id": "e7111802",
   "metadata": {},
   "outputs": [],
   "source": [
    "q_filepaths = list(q_path.glob(r'**/*.jpg'))\n",
    "t_filepaths = list(t_path.glob(r'**/*.jpg'))"
   ]
  },
  {
   "cell_type": "code",
   "execution_count": null,
   "id": "14869538",
   "metadata": {},
   "outputs": [],
   "source": [
    "from tensorflow.keras.preprocessing import image\n",
    "from tensorflow.keras.applications.inception_resnet_v2 import InceptionResNetV2, preprocess_input"
   ]
  },
  {
   "cell_type": "code",
   "execution_count": null,
   "id": "7ce44c1d",
   "metadata": {},
   "outputs": [],
   "source": [
    "IMAGE_SIZE    = (256, 256)\n",
    "label = 0 #동일한 종이 아닌 경우 0\n",
    "\n",
    "q_prediction = {}\n",
    "t_prediction = {}\n",
    "\n",
    "for i in q_filepaths:\n",
    "  q_image = image.load_img(i, target_size =IMAGE_SIZE)\n",
    "  q_image = image.img_to_array(q_image)\n",
    "  q_image = q_image.reshape((1, q_image.shape[0], q_image.shape[1], q_image.shape[2]))\n",
    "  q_image = preprocess_input(q_image)\n",
    "  q_prediction[i] = np.argmax(model.predict(q_image), axis = 1)\n",
    "\n",
    "  \n",
    "for j in t_filepaths:\n",
    "  t_image = image.load_img(j, target_size =IMAGE_SIZE)\n",
    "  t_image = image.img_to_array(t_image)\n",
    "  t_image = t_image.reshape((1, t_image.shape[0], t_image.shape[1], t_image.shape[2]))\n",
    "  t_image = preprocess_input(t_image)\n",
    "  t_prediction[j] = np.argmax(model.predict(t_image), axis = 1)"
   ]
  },
  {
   "cell_type": "code",
   "execution_count": null,
   "id": "c0d61830",
   "metadata": {},
   "outputs": [],
   "source": [
    "for i in q_filepaths:\n",
    "  for j in t_filepaths:\n",
    "    if q_prediction.get(i) == t_prediction.get(j) :\n",
    "      label = 1\n",
    "    else :\n",
    "      label = 0 \n",
    "    answer = answer.append({'question': str(i).split('\\\\')[-1], 'target': str(j).split('\\\\')[-1],'label' : label}, ignore_index = True)"
   ]
  },
  {
   "cell_type": "code",
   "execution_count": null,
   "id": "83b182b5",
   "metadata": {},
   "outputs": [],
   "source": [
    "#209245 * 3 시트가 만들어져야 함\n",
    "answer.to_csv('C:/Users/user/Desktop/predict/answer.csv')"
   ]
  },
  {
   "cell_type": "code",
   "execution_count": null,
   "id": "286f9afc",
   "metadata": {},
   "outputs": [],
   "source": [
    "answer.shape"
   ]
  }
 ],
 "metadata": {
  "kernelspec": {
   "display_name": "Python 3 (ipykernel)",
   "language": "python",
   "name": "python3"
  },
  "language_info": {
   "codemirror_mode": {
    "name": "ipython",
    "version": 3
   },
   "file_extension": ".py",
   "mimetype": "text/x-python",
   "name": "python",
   "nbconvert_exporter": "python",
   "pygments_lexer": "ipython3",
   "version": "3.9.12"
  }
 },
 "nbformat": 4,
 "nbformat_minor": 5
}
