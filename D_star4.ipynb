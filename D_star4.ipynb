{
  "nbformat": 4,
  "nbformat_minor": 0,
  "metadata": {
    "colab": {
      "provenance": [],
      "collapsed_sections": []
    },
    "kernelspec": {
      "name": "python3",
      "display_name": "Python 3"
    },
    "language_info": {
      "name": "python"
    }
  },
  "cells": [
    {
      "cell_type": "markdown",
      "source": [
        "# 대스타\n",
        "\n",
        "\n",
        "\n",
        "1.   모듈화\n",
        "2.   통합\n",
        "\n"
      ],
      "metadata": {
        "id": "xZh4NzP0LQTk"
      }
    },
    {
      "cell_type": "markdown",
      "source": [
        "#### 필요한 라이브러리 pip로 설치"
      ],
      "metadata": {
        "id": "Ur_GRSubLaik"
      }
    },
    {
      "cell_type": "code",
      "execution_count": 1,
      "metadata": {
        "colab": {
          "base_uri": "https://localhost:8080/"
        },
        "id": "m8ADD37CK_v7",
        "outputId": "313a8eb5-2283-4b15-9046-58802f8897bd"
      },
      "outputs": [
        {
          "output_type": "stream",
          "name": "stdout",
          "text": [
            "Looking in indexes: https://pypi.org/simple, https://us-python.pkg.dev/colab-wheels/public/simple/\n",
            "Requirement already satisfied: Pillow in /usr/local/lib/python3.7/dist-packages (7.1.2)\n"
          ]
        }
      ],
      "source": [
        "pip install Pillow"
      ]
    },
    {
      "cell_type": "markdown",
      "source": [
        "#### 라이브러리 선언"
      ],
      "metadata": {
        "id": "gUiptUgxLiS-"
      }
    },
    {
      "cell_type": "code",
      "source": [
        "#경로 접근을 위한 라이브러리\n",
        "import os \n",
        "\n",
        "#이미지 출력을 위한 라이브러리\n",
        "%matplotlib inline\n",
        "\n",
        "import matplotlib.image as mpimg\n",
        "import matplotlib.pyplot as plt\n",
        "\n",
        "import cv2\n",
        "from google.colab.patches import cv2_imshow #colab에서만 사용하는 라이브러리, 이미지를 보여주기위한 것\n",
        "\n",
        "#계산을 위한 라이브러리\n",
        "import numpy as np\n",
        "\n",
        "#Pillow 패키지 사용을 위한 라이브러리\n",
        "from PIL import Image\n",
        "\n",
        "#색공간 변환을 위한 라이브러리\n",
        "from skimage import color\n",
        "\n",
        "#csv 파일을 위한 라이브러리\n",
        "import csv\n",
        "\n",
        "#pandas 사용을 위한 라이브러리\n",
        "import pandas as pd"
      ],
      "metadata": {
        "id": "d_qTFQ9XLk0f"
      },
      "execution_count": 2,
      "outputs": []
    },
    {
      "cell_type": "markdown",
      "source": [
        "#### dataset directory path"
      ],
      "metadata": {
        "id": "V9WR8BqiLuP9"
      }
    },
    {
      "cell_type": "code",
      "source": [
        "#기본 경로 설정\n",
        "base_dir = '/content/drive/MyDrive'\n",
        "\n",
        "#학습 데이터 경로\n",
        "train_dir = os.path.join(base_dir, 'train') #원본 이미지 경로\n",
        "\n",
        "re_train_dir = os.path.join(base_dir, 're_train') #resize된 이미지가 저장될 경로 : 실제 사용할 경로\n",
        "\n",
        "#레이블 경로 설정\n",
        "lable_dir = os.path.join(base_dir, 'train_label.csv') #원본 레이블 경로\n",
        "\n",
        "print(train_dir)\n",
        "print(re_train_dir)"
      ],
      "metadata": {
        "colab": {
          "base_uri": "https://localhost:8080/"
        },
        "id": "MuPiiKwtLxAh",
        "outputId": "41644d77-62e5-4372-ae71-97c5ea019f23"
      },
      "execution_count": 3,
      "outputs": [
        {
          "output_type": "stream",
          "name": "stdout",
          "text": [
            "/content/drive/MyDrive/train\n",
            "/content/drive/MyDrive/re_train\n"
          ]
        }
      ]
    },
    {
      "cell_type": "markdown",
      "source": [
        "#### 레이블 \n",
        "\n",
        "\n",
        "> Pandas 사용\n",
        "\n"
      ],
      "metadata": {
        "id": "hyn9aYlwM2zv"
      }
    },
    {
      "cell_type": "code",
      "source": [
        "#pandas를 이용하여 csv파일 읽어온다\n",
        "lable_input = pd.read_csv(filepath_or_buffer=lable_dir, encoding=\"cp949\", sep=\",\") #한글 인코딩 : cp949 / 안되면 utf-8 사용해보기\n",
        "\n",
        "# 항목 수（행수 * 칼럼수）를 반환한다.\n",
        "print(lable_input.size)\n",
        "\n",
        "#현재 저장되어 있는 정보\n",
        "print(lable_input)"
      ],
      "metadata": {
        "colab": {
          "base_uri": "https://localhost:8080/"
        },
        "id": "-FYG_KJEM-w4",
        "outputId": "8f9b6bb7-e61b-4eab-a926-8afdaa85a6db"
      },
      "execution_count": 4,
      "outputs": [
        {
          "output_type": "stream",
          "name": "stdout",
          "text": [
            "4164\n",
            "           file_name    name\n",
            "0     train_0000.jpg    네귀쓴풀\n",
            "1     train_0001.jpg    네귀쓴풀\n",
            "2     train_0002.jpg   민박쥐나물\n",
            "3     train_0003.jpg   민박쥐나물\n",
            "4     train_0004.jpg  큰틈성이삭새\n",
            "...              ...     ...\n",
            "2077  train_2077.jpg      뚝갈\n",
            "2078  train_2078.jpg      뚝갈\n",
            "2079  train_2079.jpg      뚝갈\n",
            "2080  train_2080.jpg      뚝갈\n",
            "2081  train_2081.jpg      뚝갈\n",
            "\n",
            "[2082 rows x 2 columns]\n"
          ]
        }
      ]
    },
    {
      "cell_type": "markdown",
      "source": [
        "#### 필요한 함수 구현하기"
      ],
      "metadata": {
        "id": "gas97HDqN773"
      }
    },
    {
      "cell_type": "markdown",
      "source": [
        "##### 전체 데이터 관련"
      ],
      "metadata": {
        "id": "cTmC487TRcFx"
      }
    },
    {
      "cell_type": "markdown",
      "source": [
        "###### 현재 전체 데이터 개수 + 1"
      ],
      "metadata": {
        "id": "2UKVgJudPKH_"
      }
    },
    {
      "cell_type": "code",
      "source": [
        "def cnt_data():\n",
        "  return len(lable_input)"
      ],
      "metadata": {
        "id": "z_H3XBniPOjz"
      },
      "execution_count": 5,
      "outputs": []
    },
    {
      "cell_type": "markdown",
      "source": [
        "###### 현재 가지고 있는 종자 리스트"
      ],
      "metadata": {
        "id": "GOkXPL1NPi06"
      }
    },
    {
      "cell_type": "code",
      "source": [
        "def data_list():\n",
        "  # row 생략 없이 출력\n",
        "  pd.set_option('display.max_rows', None)\n",
        "  #위의 생략 없이를 하지 않으면 index 범위 오류가 발생한다.\n",
        "\n",
        "  #중복 제거\n",
        "  tmp = lable_input.drop_duplicates(subset='name').iloc[:,1]\n",
        "\n",
        "  #종자 개수\n",
        "  n = len(tmp)\n",
        "\n",
        "  name_list_tmp = str(tmp).split()\n",
        "  name_list = []\n",
        "\n",
        "  for i in range(n):\n",
        "    name_list.append(name_list_tmp[2 * i + 1])\n",
        "\n",
        "  return name_list"
      ],
      "metadata": {
        "id": "y6L0hvpoPgS7"
      },
      "execution_count": 6,
      "outputs": []
    },
    {
      "cell_type": "markdown",
      "source": [
        "###### 이미지 개수가 n개인 종자 리스트 구하기"
      ],
      "metadata": {
        "id": "MjyK2KFhTspX"
      }
    },
    {
      "cell_type": "code",
      "source": [
        "def n_list(n):\n",
        "  num = []\n",
        "  for i in data_list():\n",
        "    tmp = img_cnt(i)\n",
        "    if tmp == n:\n",
        "      num.append(i)\n",
        "\n",
        "  return num"
      ],
      "metadata": {
        "id": "Q4vWaSs3TwvH"
      },
      "execution_count": 7,
      "outputs": []
    },
    {
      "cell_type": "markdown",
      "source": [
        "##### 한 종자에 관련"
      ],
      "metadata": {
        "id": "-N68Oo4DRhVJ"
      }
    },
    {
      "cell_type": "markdown",
      "source": [
        "###### 종자가 가진 이미지 수 구하기\n",
        "\n",
        "*parameter*\n",
        "\n",
        "> img_name : 종자 이름"
      ],
      "metadata": {
        "id": "l0OaYdZeN-Jn"
      }
    },
    {
      "cell_type": "code",
      "source": [
        "def img_cnt(img_name):\n",
        "  tmp = lable_input[lable_input['name'] == img_name].iloc[:,0]\n",
        "  return len(tmp)"
      ],
      "metadata": {
        "id": "ZHYW03OcN7T3"
      },
      "execution_count": 8,
      "outputs": []
    },
    {
      "cell_type": "markdown",
      "source": [
        "###### 종자가 가진 이미지 이름 리스트 구하기\n",
        "\n",
        "*parameter*\n",
        "\n",
        "> img_name : 종자 이름"
      ],
      "metadata": {
        "id": "kIW2cmfvOVrt"
      }
    },
    {
      "cell_type": "code",
      "source": [
        "def img_list(img_name):\n",
        "  tmp = lable_input[lable_input['name'] == img_name].iloc[:,0]\n",
        "  #입력한 종자이름을 가진 이미지 수\n",
        "  n = len(tmp)\n",
        "\n",
        "  #문자열 변환 후 리스트에 저장\n",
        "  file_list_tmp = str(tmp).split()\n",
        "  file_list = []\n",
        "  for i in range(n):\n",
        "    file_list.append(file_list_tmp[2 * i+1])\n",
        "\n",
        "  return file_list"
      ],
      "metadata": {
        "id": "kgVIpAPROU_9"
      },
      "execution_count": 9,
      "outputs": []
    },
    {
      "cell_type": "markdown",
      "source": [
        "##### 증강 기법"
      ],
      "metadata": {
        "id": "qxsprnFWRsRB"
      }
    },
    {
      "cell_type": "markdown",
      "source": [
        "###### re-size\n",
        "\n",
        "*parameter*\n",
        "\n",
        "> val : 변경할 사이즈\n",
        "\n"
      ],
      "metadata": {
        "id": "ZHUMsLPpRysh"
      }
    },
    {
      "cell_type": "code",
      "source": [
        "def re_size(val):\n",
        "  size = val, val #바꾸고 싶은 사이즈\n",
        "  #저장될 경로 : re_train_dir\n",
        "\n",
        "  #현재 가지고 있는 이미지 이름 리스트\n",
        "  train_fnames = os.listdir(train_dir)\n",
        "  \n",
        "  for i in range(len(train_fnames)):\n",
        "    #가져오는 경로\n",
        "    img = os.path.join(train_dir, train_fnames[i])\n",
        "    #image 읽어오기\n",
        "    image = cv2.imread(img)\n",
        "\n",
        "    #사이즈 변경하기\n",
        "    mod_img = cv2.resize(image,size)\n",
        "\n",
        "    #저장할 경로 설정\n",
        "    path = os.path.join(re_train_dir, train_fnames[i])\n",
        "    cv2.imwrite(path, mod_img)"
      ],
      "metadata": {
        "id": "GUiS4visR0kC"
      },
      "execution_count": 10,
      "outputs": []
    },
    {
      "cell_type": "markdown",
      "source": [
        "###### rotation\n",
        "\n",
        "*parameter*\n",
        "\n",
        "> n : 기본적으로 가지고 있는 이미지 수"
      ],
      "metadata": {
        "id": "n3XS0vklRuO5"
      }
    },
    {
      "cell_type": "code",
      "source": [
        "def rotation(n):\n",
        "  for i in n: #종자이름 반복문\n",
        "    tmp = img_list(i)\n",
        "    for j in tmp: #이미지 파일 이름 반복문\n",
        "      #image path 저장\n",
        "      images = os.path.join(re_train_dir, j)\n",
        "\n",
        "      #image 읽어오기\n",
        "      image = cv2.imread(images) \n",
        "\n",
        "      #회전시키기\n",
        "      img90 = cv2.rotate(image, cv2.ROTATE_90_CLOCKWISE) # 시계방향으로 90도 회전\n",
        "      img180 = cv2.rotate(image, cv2.ROTATE_180) # 180도 회전\n",
        "      img270 = cv2.rotate(image, cv2.ROTATE_90_COUNTERCLOCKWISE) # 반시계방향으로 90도 회전 = 시계방향으로 270도 회전\n",
        "\n",
        "      #이미지 이름생성\n",
        "      n = cnt_data() #현재 마지막 이미지 번호 +1\n",
        "      t1 = f'train_{n}.jpg' #img90 이름 \n",
        "      t2 = f'train_{n+1}.jpg' #img180 이름 \n",
        "      t3 = f'train_{n+2}.jpg' #img270 이름 \n",
        "\n",
        "      #수정된 학습 폴더에 90 이미지 저장\n",
        "      path = os.path.join(re_train_dir, t1)\n",
        "      cv2.imwrite(path, img90)\n",
        "      #pandas에 추가 --> 맨 뒤에 이미지 이름, 종자이름 추가\n",
        "      lable_input.loc[n] = [t1,i]\n",
        "\n",
        "      #수정된 학습 폴더에 180 이미지 저장\n",
        "      path = os.path.join(re_train_dir, t2)\n",
        "      cv2.imwrite(path, img180)\n",
        "      #pandas에 추가 --> 맨 뒤에 이미지 이름, 종자이름 추가\n",
        "      lable_input.loc[n+1] = [t2,i]\n",
        "\n",
        "      #수정된 학습 폴더에 270 이미지 저장\n",
        "      path = os.path.join(re_train_dir, t3)\n",
        "      cv2.imwrite(path, img270)\n",
        "      #pandas에 추가 --> 맨 뒤에 이미지 이름, 종자이름 추가\n",
        "      lable_input.loc[n+2] = [t3,i]"
      ],
      "metadata": {
        "id": "eEtd_TgcRvpk"
      },
      "execution_count": 11,
      "outputs": []
    },
    {
      "cell_type": "markdown",
      "source": [
        "###### 이미지 선명하게\n",
        "\n",
        "*parameter*\n",
        "\n",
        "> n : 기본적으로 가지고 있는 이미지 수"
      ],
      "metadata": {
        "id": "aqiBOQBiWCjG"
      }
    },
    {
      "cell_type": "code",
      "source": [
        "def sharp(n):\n",
        "  # 커널 생성(대상이 있는 픽셀을 강조)\n",
        "  kernel = np.array([[0, -1, 0],\n",
        "                    [-1, 5, -1],\n",
        "                    [0, -1, 0]])\n",
        "  \n",
        "  for i in n: #종자 이름 반복\n",
        "    tmp = img_list(i)\n",
        "    for j in tmp: #이미지 파일 이름 반복\n",
        "      #image path 저장\n",
        "      images = os.path.join(re_train_dir, j)\n",
        "\n",
        "      #image 읽어오기\n",
        "      image = cv2.imread(images) \n",
        "\n",
        "      # 커널 적용 \n",
        "      image_sharp = cv2.filter2D(image, -1, kernel)\n",
        "\n",
        "      #이미지 이름생성\n",
        "      n = cnt_data() #현재 마지막 이미지 번호 +1\n",
        "      t = f'train_{n}.jpg'\n",
        "\n",
        "      #수정된 학습 폴더에 sharp 이미지 저장\n",
        "      path = os.path.join(re_train_dir, t)\n",
        "      cv2.imwrite(path, image_sharp)\n",
        "      #pandas에 추가 --> 맨 뒤에 이미지 이름, 종자이름 추가\n",
        "      lable_input.loc[n] = [t,i]"
      ],
      "metadata": {
        "id": "2R7OYTJsWEpw"
      },
      "execution_count": 12,
      "outputs": []
    },
    {
      "cell_type": "markdown",
      "source": [
        "###### 밝기 조절"
      ],
      "metadata": {
        "id": "NMzoLJOmtaCk"
      }
    },
    {
      "cell_type": "code",
      "source": [
        "def bright(n) :\n",
        "  val = [30, 40, 50] # 밝기 조절 값\n",
        "\n",
        "  for i in n: #종자이름 반복문\n",
        "    tmp = img_list(i)\n",
        "    for j in tmp: #이미지 파일 이름 반복문\n",
        "      #image path 저장\n",
        "      images = os.path.join(re_train_dir, j)\n",
        "\n",
        "      #image 읽어오기\n",
        "      image = cv2.imread(images) \n",
        "\n",
        "      #배열을 쓰는 이유 : RGB값 모두 더해줘야 하므로\n",
        "      #배열을 쓰지 않으면 한 값만 커지거나 작아진다.\n",
        "      array0 = np.full(image.shape, (val[0],val[0],val[0]), dtype=np.uint8)\n",
        "      array1 = np.full(image.shape, (val[1],val[1],val[1]), dtype=np.uint8)\n",
        "      array2 = np.full(image.shape, (val[2],val[2],val[2]), dtype=np.uint8)\n",
        "\n",
        "      #더 밝게 하는 add\n",
        "      add0 = cv2.add(image, array0) \n",
        "      add1 = cv2.add(image, array1)\n",
        "      add2 = cv2.add(image, array2)\n",
        "\n",
        "      #더 어둡게 하는 sub\n",
        "      sub0 = cv2.subtract(image, array0)\n",
        "      sub1 = cv2.subtract(image, array1)\n",
        "      sub2 = cv2.subtract(image, array2)\n",
        "\n",
        "      #이미지 이름생성\n",
        "      n = cnt_data() #현재 마지막 이미지 번호 +1\n",
        "      create_name = [] #생성한 이름\n",
        "      for cn in range(len(val) * 2):\n",
        "        create_name.append(f'train_{n+cn}.jpg')\n",
        "\n",
        "      #만들어진 이미지 저장\n",
        "      path = os.path.join(re_train_dir, create_name[0])\n",
        "      cv2.imwrite(path, add0)\n",
        "      path = os.path.join(re_train_dir, create_name[1])\n",
        "      cv2.imwrite(path, add1)\n",
        "      path = os.path.join(re_train_dir, create_name[2])\n",
        "      cv2.imwrite(path, add2)\n",
        "\n",
        "      path = os.path.join(re_train_dir, create_name[3])\n",
        "      cv2.imwrite(path, sub0)\n",
        "      path = os.path.join(re_train_dir, create_name[4])\n",
        "      cv2.imwrite(path, sub1)\n",
        "      path = os.path.join(re_train_dir, create_name[5])\n",
        "      cv2.imwrite(path, sub2)\n",
        "\n",
        "      #만들어진 이미지 pandas 저장\n",
        "      for cn in range(len(create_name)):\n",
        "        lable_input.loc[n+cn] = [create_name[cn],i]"
      ],
      "metadata": {
        "id": "bW3QI7iztcgS"
      },
      "execution_count": 13,
      "outputs": []
    },
    {
      "cell_type": "code",
      "source": [
        "def bright_2(n) :\n",
        "  val = [35, 45] # 밝기 조절 값\n",
        "\n",
        "  for i in n: #종자이름 반복문\n",
        "    tmp = img_list(i)\n",
        "    for j in tmp: #이미지 파일 이름 반복문\n",
        "      #image path 저장\n",
        "      images = os.path.join(re_train_dir, j)\n",
        "\n",
        "      #image 읽어오기\n",
        "      image = cv2.imread(images) \n",
        "\n",
        "      #배열을 쓰는 이유 : RGB값 모두 더해줘야 하므로\n",
        "      #배열을 쓰지 않으면 한 값만 커지거나 작아진다.\n",
        "      array0 = np.full(image.shape, (val[0],val[0],val[0]), dtype=np.uint8)\n",
        "      array1 = np.full(image.shape, (val[1],val[1],val[1]), dtype=np.uint8)\n",
        "\n",
        "      #더 밝게 하는 add\n",
        "      add0 = cv2.add(image, array0) \n",
        "      add1 = cv2.add(image, array1)\n",
        "\n",
        "      #더 어둡게 하는 sub\n",
        "      sub0 = cv2.subtract(image, array0)\n",
        "      sub1 = cv2.subtract(image, array1)\n",
        "\n",
        "      #이미지 이름생성\n",
        "      n = cnt_data() #현재 마지막 이미지 번호 +1\n",
        "      create_name = [] #생성한 이름\n",
        "      for cn in range(len(val) * 2):\n",
        "        create_name.append(f'train_{n+cn}.jpg')\n",
        "\n",
        "      #만들어진 이미지 저장\n",
        "      path = os.path.join(re_train_dir, create_name[0])\n",
        "      cv2.imwrite(path, add0)\n",
        "      path = os.path.join(re_train_dir, create_name[1])\n",
        "      cv2.imwrite(path, add1)\n",
        "\n",
        "      path = os.path.join(re_train_dir, create_name[2])\n",
        "      cv2.imwrite(path, sub0)\n",
        "      path = os.path.join(re_train_dir, create_name[3])\n",
        "      cv2.imwrite(path, sub1)\n",
        "\n",
        "      #만들어진 이미지 pandas 저장\n",
        "      for cn in range(len(create_name)):\n",
        "        lable_input.loc[n+cn] = [create_name[cn],i]"
      ],
      "metadata": {
        "id": "Rvmjv51HGxcu"
      },
      "execution_count": 14,
      "outputs": []
    },
    {
      "cell_type": "markdown",
      "source": [
        "###### 대비 높이기"
      ],
      "metadata": {
        "id": "swRZbnHnNBcl"
      }
    },
    {
      "cell_type": "code",
      "source": [
        "def eqHist(n) :\n",
        "  for i in n: #종자이름 반복문\n",
        "    tmp = img_list(i)\n",
        "    for j in tmp: #이미지 파일 이름 반복문\n",
        "      #image path 저장\n",
        "      images = os.path.join(re_train_dir, j)\n",
        "\n",
        "      #image 읽어오기\n",
        "      image = cv2.imread(images) \n",
        "\n",
        "      #히스토그램 평활화(Histogram Equalization)은 객체의 형태가 두드러지도록 만들어주는 이미지 처리 도구\n",
        "      #equalizeHist() 메소드 사용\n",
        "      #컬러이미지 : RGB --> YUV --> RGB 포맷 변경 필요\n",
        "\n",
        "      # YUV 컬로 포맷으로 변환\n",
        "      image_yuv = cv2.cvtColor(image, cv2.COLOR_BGR2YUV)\n",
        "      # 히스토그램 평활화 적용\n",
        "      image_yuv[:, :, 0] = cv2.equalizeHist(image_yuv[:, :, 0])\n",
        "      #RGB로 변환\n",
        "      image_rgb = cv2.cvtColor(image_yuv, cv2.COLOR_YUV2RGB)\n",
        "\n",
        "      #이미지 이름생성\n",
        "      n = cnt_data() #현재 마지막 이미지 번호 +1\n",
        "      t = f'train_{n}.jpg'\n",
        "\n",
        "      #수정된 학습 폴더에 이미지 저장\n",
        "      path = os.path.join(re_train_dir, t)\n",
        "      cv2.imwrite(path, image_rgb)\n",
        "      #pandas에 추가 --> 맨 뒤에 이미지 이름, 종자이름 추가\n",
        "      lable_input.loc[n] = [t,i]"
      ],
      "metadata": {
        "id": "TimapPOYNAwl"
      },
      "execution_count": 15,
      "outputs": []
    },
    {
      "cell_type": "markdown",
      "source": [
        "#### test"
      ],
      "metadata": {
        "id": "Zb9sag5VYDPL"
      }
    },
    {
      "cell_type": "code",
      "source": [
        "cnt_data() #시작 데이터 개수"
      ],
      "metadata": {
        "colab": {
          "base_uri": "https://localhost:8080/"
        },
        "id": "YinE66ttYFSc",
        "outputId": "559e3546-0af2-4105-aa1a-2b317f3cea8c"
      },
      "execution_count": 16,
      "outputs": [
        {
          "output_type": "execute_result",
          "data": {
            "text/plain": [
              "2082"
            ]
          },
          "metadata": {},
          "execution_count": 16
        }
      ]
    },
    {
      "cell_type": "code",
      "source": [
        "len(data_list()) #가지고 있는 종자 개수"
      ],
      "metadata": {
        "colab": {
          "base_uri": "https://localhost:8080/"
        },
        "id": "2jxED3gbYQq8",
        "outputId": "7f44c0f0-fb6a-458c-f09c-67806fbfb456"
      },
      "execution_count": 17,
      "outputs": [
        {
          "output_type": "execute_result",
          "data": {
            "text/plain": [
              "309"
            ]
          },
          "metadata": {},
          "execution_count": 17
        }
      ]
    },
    {
      "cell_type": "markdown",
      "source": [
        "###### 전처리\n",
        "\n",
        "re_size : 256*256\n",
        "\n",
        "[0000:2081]"
      ],
      "metadata": {
        "id": "b3pdvd3UryUZ"
      }
    },
    {
      "cell_type": "code",
      "source": [
        "#전체 이미지 re-size\n",
        "\n",
        "re_size(256)"
      ],
      "metadata": {
        "id": "kfLf-JzRZbaN"
      },
      "execution_count": 18,
      "outputs": []
    },
    {
      "cell_type": "markdown",
      "source": [
        "###### 이미지 2개를 가진 종자\n",
        "\n",
        "2 --> 56 증강"
      ],
      "metadata": {
        "id": "jo-lx69tZH11"
      }
    },
    {
      "cell_type": "code",
      "source": [
        "two = n_list(2)\n",
        "len(two) #이미지 2개를 가진 종자 개수"
      ],
      "metadata": {
        "colab": {
          "base_uri": "https://localhost:8080/"
        },
        "id": "4_tv0RVHZEZO",
        "outputId": "40c8972c-b801-4c47-b0d6-03e6efaceea0"
      },
      "execution_count": 19,
      "outputs": [
        {
          "output_type": "execute_result",
          "data": {
            "text/plain": [
              "79"
            ]
          },
          "metadata": {},
          "execution_count": 19
        }
      ]
    },
    {
      "cell_type": "markdown",
      "source": [
        "[2082:2555]"
      ],
      "metadata": {
        "id": "Puk79fmF4yZf"
      }
    },
    {
      "cell_type": "code",
      "source": [
        "#rotation\n",
        "\n",
        "rotation(two)"
      ],
      "metadata": {
        "id": "PMX1nTtG2LHR"
      },
      "execution_count": 20,
      "outputs": []
    },
    {
      "cell_type": "code",
      "source": [
        "cnt_data() #rotation 후 데이터 개수 --> 474 증가"
      ],
      "metadata": {
        "colab": {
          "base_uri": "https://localhost:8080/"
        },
        "id": "vdlde1K62Qsx",
        "outputId": "b818a2d5-8390-450f-a529-d09afa729c3f"
      },
      "execution_count": 21,
      "outputs": [
        {
          "output_type": "execute_result",
          "data": {
            "text/plain": [
              "2556"
            ]
          },
          "metadata": {},
          "execution_count": 21
        }
      ]
    },
    {
      "cell_type": "markdown",
      "source": [
        "[2556:6347]"
      ],
      "metadata": {
        "id": "m2d3NGyU42XY"
      }
    },
    {
      "cell_type": "code",
      "source": [
        "#bright\n",
        "\n",
        "bright(two)"
      ],
      "metadata": {
        "id": "ibQHOAvM2eWZ"
      },
      "execution_count": 22,
      "outputs": []
    },
    {
      "cell_type": "code",
      "source": [
        "cnt_data() #bright 후 데이터 개수 --> 3792 증가"
      ],
      "metadata": {
        "colab": {
          "base_uri": "https://localhost:8080/"
        },
        "id": "fDZ89lhG2vIR",
        "outputId": "896dd95f-8efc-4d7d-83e0-bf7a2e4ac4c9"
      },
      "execution_count": 23,
      "outputs": [
        {
          "output_type": "execute_result",
          "data": {
            "text/plain": [
              "6348"
            ]
          },
          "metadata": {},
          "execution_count": 23
        }
      ]
    },
    {
      "cell_type": "code",
      "source": [
        "sharp(two)"
      ],
      "metadata": {
        "id": "IGm4Ja3hnhn4"
      },
      "execution_count": 24,
      "outputs": []
    },
    {
      "cell_type": "code",
      "source": [
        "for i in two:\n",
        "  print(img_cnt(i))"
      ],
      "metadata": {
        "colab": {
          "base_uri": "https://localhost:8080/"
        },
        "id": "2MKejg647jgf",
        "outputId": "881ca6d8-d5a7-4cce-a204-4f9d9d356c79"
      },
      "execution_count": 25,
      "outputs": [
        {
          "output_type": "stream",
          "name": "stdout",
          "text": [
            "112\n",
            "112\n",
            "112\n",
            "112\n",
            "112\n",
            "112\n",
            "112\n",
            "112\n",
            "112\n",
            "112\n",
            "112\n",
            "112\n",
            "112\n",
            "112\n",
            "112\n",
            "112\n",
            "112\n",
            "112\n",
            "112\n",
            "112\n",
            "112\n",
            "112\n",
            "112\n",
            "112\n",
            "112\n",
            "112\n",
            "112\n",
            "112\n",
            "112\n",
            "112\n",
            "112\n",
            "112\n",
            "112\n",
            "112\n",
            "112\n",
            "112\n",
            "112\n",
            "112\n",
            "112\n",
            "112\n",
            "112\n",
            "112\n",
            "112\n",
            "112\n",
            "112\n",
            "112\n",
            "112\n",
            "112\n",
            "112\n",
            "112\n",
            "112\n",
            "112\n",
            "112\n",
            "112\n",
            "112\n",
            "112\n",
            "112\n",
            "112\n",
            "112\n",
            "112\n",
            "112\n",
            "112\n",
            "112\n",
            "112\n",
            "112\n",
            "112\n",
            "112\n",
            "112\n",
            "112\n",
            "112\n",
            "112\n",
            "112\n",
            "112\n",
            "112\n",
            "112\n",
            "112\n",
            "112\n",
            "112\n",
            "112\n"
          ]
        }
      ]
    },
    {
      "cell_type": "markdown",
      "source": [
        "##### 이미지 3개를 가진 종자\n",
        "\n",
        "3 --> 84"
      ],
      "metadata": {
        "id": "FVRMnI4d3yWw"
      }
    },
    {
      "cell_type": "code",
      "source": [
        "three = n_list(3)\n",
        "len(three)"
      ],
      "metadata": {
        "colab": {
          "base_uri": "https://localhost:8080/"
        },
        "id": "Tyzg7dMl32Fo",
        "outputId": "ea7cc2ed-2976-407a-f77c-c211e3f858a1"
      },
      "execution_count": 26,
      "outputs": [
        {
          "output_type": "execute_result",
          "data": {
            "text/plain": [
              "76"
            ]
          },
          "metadata": {},
          "execution_count": 26
        }
      ]
    },
    {
      "cell_type": "markdown",
      "source": [
        "[6348:7031]"
      ],
      "metadata": {
        "id": "xSQUxRdk6xhj"
      }
    },
    {
      "cell_type": "code",
      "source": [
        "rotation(three)"
      ],
      "metadata": {
        "id": "lsNSKclU5TRK"
      },
      "execution_count": 27,
      "outputs": []
    },
    {
      "cell_type": "code",
      "source": [
        "cnt_data() #rotation 후 데이터 개수 --> 684 증가"
      ],
      "metadata": {
        "colab": {
          "base_uri": "https://localhost:8080/"
        },
        "id": "txrofFFo5af4",
        "outputId": "a2eac011-0712-4817-d0f0-04c008477b8e"
      },
      "execution_count": 28,
      "outputs": [
        {
          "output_type": "execute_result",
          "data": {
            "text/plain": [
              "11456"
            ]
          },
          "metadata": {},
          "execution_count": 28
        }
      ]
    },
    {
      "cell_type": "markdown",
      "source": [
        "[7032:12503]"
      ],
      "metadata": {
        "id": "6E_IxRuH8t0g"
      }
    },
    {
      "cell_type": "code",
      "source": [
        "bright(three)"
      ],
      "metadata": {
        "id": "snwNRBFE8FFY"
      },
      "execution_count": 29,
      "outputs": []
    },
    {
      "cell_type": "code",
      "source": [
        "cnt_data() #bright 후 데이터 개수 --> 5472 증가"
      ],
      "metadata": {
        "colab": {
          "base_uri": "https://localhost:8080/"
        },
        "id": "lAlWcKBB8nuv",
        "outputId": "5211a3c0-3e22-4e67-9a9e-867072bcaf16"
      },
      "execution_count": 30,
      "outputs": [
        {
          "output_type": "execute_result",
          "data": {
            "text/plain": [
              "16928"
            ]
          },
          "metadata": {},
          "execution_count": 30
        }
      ]
    },
    {
      "cell_type": "code",
      "source": [
        "sharp(three)"
      ],
      "metadata": {
        "id": "qMvBn4uWntF8"
      },
      "execution_count": 31,
      "outputs": []
    },
    {
      "cell_type": "code",
      "source": [
        "for i in three:\n",
        "  print(img_cnt(i))"
      ],
      "metadata": {
        "colab": {
          "base_uri": "https://localhost:8080/"
        },
        "id": "KERIzfel8zXp",
        "outputId": "05a99a19-bfcb-43b0-bc48-0b8f995e05b7"
      },
      "execution_count": 32,
      "outputs": [
        {
          "output_type": "stream",
          "name": "stdout",
          "text": [
            "168\n",
            "168\n",
            "168\n",
            "168\n",
            "168\n",
            "168\n",
            "168\n",
            "168\n",
            "168\n",
            "168\n",
            "168\n",
            "168\n",
            "168\n",
            "168\n",
            "168\n",
            "168\n",
            "168\n",
            "168\n",
            "168\n",
            "168\n",
            "168\n",
            "168\n",
            "168\n",
            "168\n",
            "168\n",
            "168\n",
            "168\n",
            "168\n",
            "168\n",
            "168\n",
            "168\n",
            "168\n",
            "168\n",
            "168\n",
            "168\n",
            "168\n",
            "168\n",
            "168\n",
            "168\n",
            "168\n",
            "168\n",
            "168\n",
            "168\n",
            "168\n",
            "168\n",
            "168\n",
            "168\n",
            "168\n",
            "168\n",
            "168\n",
            "168\n",
            "168\n",
            "168\n",
            "168\n",
            "168\n",
            "168\n",
            "168\n",
            "168\n",
            "168\n",
            "168\n",
            "168\n",
            "168\n",
            "168\n",
            "168\n",
            "168\n",
            "168\n",
            "168\n",
            "168\n",
            "168\n",
            "168\n",
            "168\n",
            "168\n",
            "168\n",
            "168\n",
            "168\n",
            "168\n"
          ]
        }
      ]
    },
    {
      "cell_type": "markdown",
      "source": [
        "##### 이미지 4개를 가진 종자\n",
        "\n",
        "4 --> 112"
      ],
      "metadata": {
        "id": "e4iuuVOi9eN2"
      }
    },
    {
      "cell_type": "code",
      "source": [
        "four = n_list(4)\n",
        "len(four)"
      ],
      "metadata": {
        "colab": {
          "base_uri": "https://localhost:8080/"
        },
        "id": "e0DDpI4V9jGO",
        "outputId": "feabb6bf-0c52-4d0c-efd5-e5b865c4f1ef"
      },
      "execution_count": 33,
      "outputs": [
        {
          "output_type": "execute_result",
          "data": {
            "text/plain": [
              "17"
            ]
          },
          "metadata": {},
          "execution_count": 33
        }
      ]
    },
    {
      "cell_type": "markdown",
      "source": [
        "[12504:12707]"
      ],
      "metadata": {
        "id": "PFS7t4RG-I2W"
      }
    },
    {
      "cell_type": "code",
      "source": [
        "rotation(four)"
      ],
      "metadata": {
        "id": "qz0JsdLu95kn"
      },
      "execution_count": 34,
      "outputs": []
    },
    {
      "cell_type": "code",
      "source": [
        "cnt_data() #rotation 후 데이터 개수 --> 204 증가"
      ],
      "metadata": {
        "colab": {
          "base_uri": "https://localhost:8080/"
        },
        "id": "khGS8P2U-A1n",
        "outputId": "d509a6f0-0f06-4861-9f41-b3817866c319"
      },
      "execution_count": 35,
      "outputs": [
        {
          "output_type": "execute_result",
          "data": {
            "text/plain": [
              "23516"
            ]
          },
          "metadata": {},
          "execution_count": 35
        }
      ]
    },
    {
      "cell_type": "markdown",
      "source": [
        "[12708:14340]"
      ],
      "metadata": {
        "id": "iOgkbD2H-yOA"
      }
    },
    {
      "cell_type": "code",
      "source": [
        "bright(four)"
      ],
      "metadata": {
        "id": "uYUApsfF-i0X"
      },
      "execution_count": 36,
      "outputs": []
    },
    {
      "cell_type": "code",
      "source": [
        "cnt_data() #bright 후 데이터 개수 --> 1632 증가"
      ],
      "metadata": {
        "colab": {
          "base_uri": "https://localhost:8080/"
        },
        "id": "RV0_LupA-qWo",
        "outputId": "c1eb798d-206d-42ac-a6f1-4eceec63901f"
      },
      "execution_count": 37,
      "outputs": [
        {
          "output_type": "execute_result",
          "data": {
            "text/plain": [
              "25148"
            ]
          },
          "metadata": {},
          "execution_count": 37
        }
      ]
    },
    {
      "cell_type": "code",
      "source": [
        "for i in four:\n",
        "  print(img_cnt(i))"
      ],
      "metadata": {
        "colab": {
          "base_uri": "https://localhost:8080/"
        },
        "id": "Rz5uHku1-1Fv",
        "outputId": "814c4024-254a-4304-b08e-9f0fd70177a0"
      },
      "execution_count": 38,
      "outputs": [
        {
          "output_type": "stream",
          "name": "stdout",
          "text": [
            "112\n",
            "112\n",
            "112\n",
            "112\n",
            "112\n",
            "112\n",
            "112\n",
            "112\n",
            "112\n",
            "112\n",
            "112\n",
            "112\n",
            "112\n",
            "112\n",
            "112\n",
            "112\n",
            "112\n"
          ]
        }
      ]
    },
    {
      "cell_type": "markdown",
      "source": [
        "##### 이미지 5개를 가진 종자\n",
        "\n",
        "~~17개가 아닌~~ 7개 있음 ~~(실행을 잘못 시켰었음)~~\n",
        "\n",
        "5 --> 140"
      ],
      "metadata": {
        "id": "LZPFU8vh_b1n"
      }
    },
    {
      "cell_type": "code",
      "source": [
        "five = n_list(5)\n",
        "len(five)"
      ],
      "metadata": {
        "colab": {
          "base_uri": "https://localhost:8080/"
        },
        "id": "fATKuZve_bJn",
        "outputId": "6878526f-ec82-44b3-d3ac-f7bcf0d39bac"
      },
      "execution_count": 39,
      "outputs": [
        {
          "output_type": "execute_result",
          "data": {
            "text/plain": [
              "7"
            ]
          },
          "metadata": {},
          "execution_count": 39
        }
      ]
    },
    {
      "cell_type": "markdown",
      "source": [
        "[14340:14444]"
      ],
      "metadata": {
        "id": "Nolxh628AN5f"
      }
    },
    {
      "cell_type": "code",
      "source": [
        "rotation(five)"
      ],
      "metadata": {
        "id": "In6dyFdm_poH"
      },
      "execution_count": 40,
      "outputs": []
    },
    {
      "cell_type": "code",
      "source": [
        "cnt_data() #rotation 후 데이터 개수 --> 105 증가"
      ],
      "metadata": {
        "colab": {
          "base_uri": "https://localhost:8080/"
        },
        "id": "9wV_Jutw_xRF",
        "outputId": "9bed95bc-61c4-4af2-ad7f-9ab90b791d8e"
      },
      "execution_count": 41,
      "outputs": [
        {
          "output_type": "execute_result",
          "data": {
            "text/plain": [
              "25253"
            ]
          },
          "metadata": {},
          "execution_count": 41
        }
      ]
    },
    {
      "cell_type": "markdown",
      "source": [
        "[14445:15284]"
      ],
      "metadata": {
        "id": "jtYLTsq4Ae33"
      }
    },
    {
      "cell_type": "code",
      "source": [
        "bright(five)"
      ],
      "metadata": {
        "id": "z3ccq5gzAM8_"
      },
      "execution_count": 42,
      "outputs": []
    },
    {
      "cell_type": "code",
      "source": [
        "cnt_data() #bright 후 데이터 개수 --> 840 증가"
      ],
      "metadata": {
        "colab": {
          "base_uri": "https://localhost:8080/"
        },
        "id": "lhnAJ7H1AXlo",
        "outputId": "1400066c-f07a-4011-d7cd-011e5174fd7a"
      },
      "execution_count": 43,
      "outputs": [
        {
          "output_type": "execute_result",
          "data": {
            "text/plain": [
              "26093"
            ]
          },
          "metadata": {},
          "execution_count": 43
        }
      ]
    },
    {
      "cell_type": "code",
      "source": [
        "for i in five:\n",
        "  print(img_cnt(i))"
      ],
      "metadata": {
        "colab": {
          "base_uri": "https://localhost:8080/"
        },
        "id": "CVoZbSZGAmbA",
        "outputId": "8e3a68d4-34b4-4af7-cd60-1c54ec9b86ae"
      },
      "execution_count": 44,
      "outputs": [
        {
          "output_type": "stream",
          "name": "stdout",
          "text": [
            "140\n",
            "140\n",
            "140\n",
            "140\n",
            "140\n",
            "140\n",
            "140\n"
          ]
        }
      ]
    },
    {
      "cell_type": "markdown",
      "source": [
        "##### 이미지 6개를 가진 종자\n",
        "\n",
        "6 --> 120"
      ],
      "metadata": {
        "id": "wKnIyEvMHTP2"
      }
    },
    {
      "cell_type": "code",
      "source": [
        "six = n_list(6)\n",
        "len(six)"
      ],
      "metadata": {
        "colab": {
          "base_uri": "https://localhost:8080/"
        },
        "id": "FVEwpU2zHZGF",
        "outputId": "930c0995-ee63-4031-ab9f-17bf96244c19"
      },
      "execution_count": 45,
      "outputs": [
        {
          "output_type": "execute_result",
          "data": {
            "text/plain": [
              "6"
            ]
          },
          "metadata": {},
          "execution_count": 45
        }
      ]
    },
    {
      "cell_type": "markdown",
      "source": [
        "[15285:15392]"
      ],
      "metadata": {
        "id": "MgBl8-AaILbV"
      }
    },
    {
      "cell_type": "code",
      "source": [
        "rotation(six)"
      ],
      "metadata": {
        "id": "9DmIEwSVHzNl"
      },
      "execution_count": 46,
      "outputs": []
    },
    {
      "cell_type": "code",
      "source": [
        "cnt_data() #rotation 후 데이터 개수 --> 108 증가"
      ],
      "metadata": {
        "colab": {
          "base_uri": "https://localhost:8080/"
        },
        "id": "yA6LhHWKH8bt",
        "outputId": "5e54d244-5771-4299-b6ed-cb77ffd319b1"
      },
      "execution_count": 47,
      "outputs": [
        {
          "output_type": "execute_result",
          "data": {
            "text/plain": [
              "26201"
            ]
          },
          "metadata": {},
          "execution_count": 47
        }
      ]
    },
    {
      "cell_type": "markdown",
      "source": [
        "[15393:15968]"
      ],
      "metadata": {
        "id": "4Y8bxA5ZIrXO"
      }
    },
    {
      "cell_type": "code",
      "source": [
        "bright_2(six)"
      ],
      "metadata": {
        "id": "oMicpfWZIJq1"
      },
      "execution_count": 48,
      "outputs": []
    },
    {
      "cell_type": "code",
      "source": [
        "cnt_data() #bright_2 후 데이터 개수 --> 576 증가"
      ],
      "metadata": {
        "colab": {
          "base_uri": "https://localhost:8080/"
        },
        "id": "w-a7xz8RIkqO",
        "outputId": "7c596e8a-2a3c-4bd7-9cf7-6ad2cdc2ebb5"
      },
      "execution_count": 49,
      "outputs": [
        {
          "output_type": "execute_result",
          "data": {
            "text/plain": [
              "26777"
            ]
          },
          "metadata": {},
          "execution_count": 49
        }
      ]
    },
    {
      "cell_type": "code",
      "source": [
        "for i in six:\n",
        "  print(img_cnt(i))"
      ],
      "metadata": {
        "colab": {
          "base_uri": "https://localhost:8080/"
        },
        "id": "LIwe2GxMIyaI",
        "outputId": "b7127248-329d-4385-94a9-93a0b8d4842c"
      },
      "execution_count": 50,
      "outputs": [
        {
          "output_type": "stream",
          "name": "stdout",
          "text": [
            "120\n",
            "120\n",
            "120\n",
            "120\n",
            "120\n",
            "120\n"
          ]
        }
      ]
    },
    {
      "cell_type": "markdown",
      "source": [
        "##### 이미지 7개를 가진 종자\n",
        "\n",
        "7 --> 140"
      ],
      "metadata": {
        "id": "so0tmuoEJAoH"
      }
    },
    {
      "cell_type": "code",
      "source": [
        "seven = n_list(7)\n",
        "len(seven)"
      ],
      "metadata": {
        "colab": {
          "base_uri": "https://localhost:8080/"
        },
        "id": "kC1suUhiI_31",
        "outputId": "bf7588ed-5c23-4d78-a6d3-b6a69a4a9be7"
      },
      "execution_count": 51,
      "outputs": [
        {
          "output_type": "execute_result",
          "data": {
            "text/plain": [
              "2"
            ]
          },
          "metadata": {},
          "execution_count": 51
        }
      ]
    },
    {
      "cell_type": "markdown",
      "source": [
        "[15969:16010]"
      ],
      "metadata": {
        "id": "SuasAllqJWhv"
      }
    },
    {
      "cell_type": "code",
      "source": [
        "rotation(seven)"
      ],
      "metadata": {
        "id": "NYwPaVpHJKNW"
      },
      "execution_count": 52,
      "outputs": []
    },
    {
      "cell_type": "code",
      "source": [
        "cnt_data() #rotation 후 데이터 개수 --> 46 증가"
      ],
      "metadata": {
        "colab": {
          "base_uri": "https://localhost:8080/"
        },
        "id": "sHIAaD6FJRaY",
        "outputId": "f3238aed-a958-49b3-9159-4dfd2ef094da"
      },
      "execution_count": 53,
      "outputs": [
        {
          "output_type": "execute_result",
          "data": {
            "text/plain": [
              "26819"
            ]
          },
          "metadata": {},
          "execution_count": 53
        }
      ]
    },
    {
      "cell_type": "markdown",
      "source": [
        "[16011:16234]"
      ],
      "metadata": {
        "id": "ag-YB3e9Jvi9"
      }
    },
    {
      "cell_type": "code",
      "source": [
        "bright_2(seven)"
      ],
      "metadata": {
        "id": "s1kPd9CqJa22"
      },
      "execution_count": 54,
      "outputs": []
    },
    {
      "cell_type": "code",
      "source": [
        "cnt_data() #bright_2 후 데이터 개수 --> 224 증가"
      ],
      "metadata": {
        "colab": {
          "base_uri": "https://localhost:8080/"
        },
        "id": "ZYjSD4BfJq29",
        "outputId": "137e9774-b8af-403c-8a5f-ee80ae0b65c6"
      },
      "execution_count": 55,
      "outputs": [
        {
          "output_type": "execute_result",
          "data": {
            "text/plain": [
              "27043"
            ]
          },
          "metadata": {},
          "execution_count": 55
        }
      ]
    },
    {
      "cell_type": "code",
      "source": [
        "for i in seven:\n",
        "  print(img_cnt(i))"
      ],
      "metadata": {
        "colab": {
          "base_uri": "https://localhost:8080/"
        },
        "id": "jlfojARDJ16_",
        "outputId": "b53d2d7e-8801-4456-a043-b00213fc5c14"
      },
      "execution_count": 56,
      "outputs": [
        {
          "output_type": "stream",
          "name": "stdout",
          "text": [
            "140\n",
            "140\n"
          ]
        }
      ]
    },
    {
      "cell_type": "markdown",
      "source": [
        "##### 이미지 8개를 가진 종자\n",
        "\n",
        "8 --> 160"
      ],
      "metadata": {
        "id": "ixa5-qbeKBv9"
      }
    },
    {
      "cell_type": "code",
      "source": [
        "eight = n_list(8)\n",
        "len(eight)"
      ],
      "metadata": {
        "colab": {
          "base_uri": "https://localhost:8080/"
        },
        "id": "iRMTgGDzKHcW",
        "outputId": "0b0d6cc2-82f4-41da-f0e0-3eac1bf37406"
      },
      "execution_count": 57,
      "outputs": [
        {
          "output_type": "execute_result",
          "data": {
            "text/plain": [
              "11"
            ]
          },
          "metadata": {},
          "execution_count": 57
        }
      ]
    },
    {
      "cell_type": "markdown",
      "source": [
        "~~실수로 print문 안써서 중간값 모름~~\n",
        "\n",
        "colab환경 상 오류가 어쩔 수 없이 난다. \n",
        "\n",
        "\n",
        "> 오류시 대처를 위해 한 셀에 하나의 증강기법만 사용\n",
        "\n",
        "\n",
        "\n",
        "[16235:17906]"
      ],
      "metadata": {
        "id": "A7tcheX0KyI9"
      }
    },
    {
      "cell_type": "code",
      "source": [
        "rotation(eight)\n",
        "\n",
        "cnt_data()"
      ],
      "metadata": {
        "id": "REZYASHepjBP",
        "colab": {
          "base_uri": "https://localhost:8080/"
        },
        "outputId": "0058fd8c-e9f8-4b72-f70f-f64cd06348da"
      },
      "execution_count": 58,
      "outputs": [
        {
          "output_type": "execute_result",
          "data": {
            "text/plain": [
              "27307"
            ]
          },
          "metadata": {},
          "execution_count": 58
        }
      ]
    },
    {
      "cell_type": "code",
      "source": [
        "bright_2(eight)\n",
        "\n",
        "cnt_data() #bright_2 후 데이터 개수 --> 224 증가"
      ],
      "metadata": {
        "colab": {
          "base_uri": "https://localhost:8080/"
        },
        "id": "dLLa3-G-KNWs",
        "outputId": "73a9f135-7f56-4a23-c558-4b1ac1716a36"
      },
      "execution_count": 59,
      "outputs": [
        {
          "output_type": "execute_result",
          "data": {
            "text/plain": [
              "28715"
            ]
          },
          "metadata": {},
          "execution_count": 59
        }
      ]
    },
    {
      "cell_type": "code",
      "source": [
        "for i in eight:\n",
        "  print(img_cnt(i))"
      ],
      "metadata": {
        "colab": {
          "base_uri": "https://localhost:8080/"
        },
        "id": "DmNVfm15LAeE",
        "outputId": "cb333f15-1ec9-47e8-9dee-c2ac6fdd5727"
      },
      "execution_count": 60,
      "outputs": [
        {
          "output_type": "stream",
          "name": "stdout",
          "text": [
            "160\n",
            "160\n",
            "160\n",
            "160\n",
            "160\n",
            "160\n",
            "160\n",
            "160\n",
            "160\n",
            "160\n",
            "160\n"
          ]
        }
      ]
    },
    {
      "cell_type": "markdown",
      "source": [
        "##### 이미지 9개를 가진 종자\n",
        "\n",
        "9 --> 180"
      ],
      "metadata": {
        "id": "Ne_joqCSLUFW"
      }
    },
    {
      "cell_type": "markdown",
      "source": [
        "[17907:18095] rotation\n",
        "\n",
        "[18096:19104] bright_2"
      ],
      "metadata": {
        "id": "YY9RM0YdL4Mc"
      }
    },
    {
      "cell_type": "code",
      "source": [
        "nine = n_list(9)\n",
        "len(nine)"
      ],
      "metadata": {
        "id": "U6VX9y4EpnfL",
        "colab": {
          "base_uri": "https://localhost:8080/"
        },
        "outputId": "bef9315d-61cd-4cf8-a48a-8d7f55500227"
      },
      "execution_count": 61,
      "outputs": [
        {
          "output_type": "execute_result",
          "data": {
            "text/plain": [
              "7"
            ]
          },
          "metadata": {},
          "execution_count": 61
        }
      ]
    },
    {
      "cell_type": "code",
      "source": [
        "rotation(nine)\n",
        "\n",
        "print(cnt_data())"
      ],
      "metadata": {
        "id": "zbDetlXtpqDx",
        "colab": {
          "base_uri": "https://localhost:8080/"
        },
        "outputId": "0923e720-b664-4db7-8008-c55a52ccf9c6"
      },
      "execution_count": 62,
      "outputs": [
        {
          "output_type": "stream",
          "name": "stdout",
          "text": [
            "28904\n"
          ]
        }
      ]
    },
    {
      "cell_type": "code",
      "source": [
        "bright_2(nine)\n",
        "\n",
        "print(cnt_data())"
      ],
      "metadata": {
        "id": "bsvOOSX5ptLx",
        "colab": {
          "base_uri": "https://localhost:8080/"
        },
        "outputId": "9f00a4c2-e18f-460b-db39-dc49b20550c4"
      },
      "execution_count": 63,
      "outputs": [
        {
          "output_type": "stream",
          "name": "stdout",
          "text": [
            "29912\n"
          ]
        }
      ]
    },
    {
      "cell_type": "code",
      "source": [
        "for i in nine:\n",
        "  print(img_cnt(i))"
      ],
      "metadata": {
        "colab": {
          "base_uri": "https://localhost:8080/"
        },
        "id": "LA4fW1SwLWon",
        "outputId": "1592c452-2bff-4af4-8599-6b8e1256fedc"
      },
      "execution_count": 64,
      "outputs": [
        {
          "output_type": "stream",
          "name": "stdout",
          "text": [
            "180\n",
            "180\n",
            "180\n",
            "180\n",
            "180\n",
            "180\n",
            "180\n"
          ]
        }
      ]
    },
    {
      "cell_type": "markdown",
      "source": [
        "##### 이미지 10개를 가진 종자\n",
        "\n",
        "10 --> 160\n",
        "\n",
        "[19104:19445]\n",
        "\n",
        "[19446:19565]\n",
        "\n",
        "[19566:19806]"
      ],
      "metadata": {
        "id": "iqCbGwnmPbw8"
      }
    },
    {
      "cell_type": "code",
      "source": [
        "ten = n_list(10)\n",
        "len(ten)"
      ],
      "metadata": {
        "id": "ZUrm0REWpxqR",
        "colab": {
          "base_uri": "https://localhost:8080/"
        },
        "outputId": "80dd130b-1ede-4014-eff8-f92ba8cfeb8e"
      },
      "execution_count": 65,
      "outputs": [
        {
          "output_type": "execute_result",
          "data": {
            "text/plain": [
              "12"
            ]
          },
          "metadata": {},
          "execution_count": 65
        }
      ]
    },
    {
      "cell_type": "code",
      "source": [
        "rotation(ten)\n",
        "\n",
        "print(cnt_data())"
      ],
      "metadata": {
        "id": "O-OGa0DMpzDx",
        "colab": {
          "base_uri": "https://localhost:8080/"
        },
        "outputId": "bd1a574c-e4e5-4366-e2c0-4ba80574e8cb"
      },
      "execution_count": 66,
      "outputs": [
        {
          "output_type": "stream",
          "name": "stdout",
          "text": [
            "30272\n"
          ]
        }
      ]
    },
    {
      "cell_type": "code",
      "source": [
        "sharp(ten)\n",
        "\n",
        "print(cnt_data())"
      ],
      "metadata": {
        "id": "cV6LpjyspzZf",
        "colab": {
          "base_uri": "https://localhost:8080/"
        },
        "outputId": "eaaa7179-e611-4d9f-995a-2bab34a77055"
      },
      "execution_count": 67,
      "outputs": [
        {
          "output_type": "stream",
          "name": "stdout",
          "text": [
            "30752\n"
          ]
        }
      ]
    },
    {
      "cell_type": "code",
      "source": [
        "eqHist(ten)\n",
        "\n",
        "print(cnt_data())"
      ],
      "metadata": {
        "id": "iqaWu0NQqM6H",
        "colab": {
          "base_uri": "https://localhost:8080/"
        },
        "outputId": "51ec11a5-00d5-494b-9cf2-a6a678bdd89d"
      },
      "execution_count": 68,
      "outputs": [
        {
          "output_type": "stream",
          "name": "stdout",
          "text": [
            "31712\n"
          ]
        }
      ]
    },
    {
      "cell_type": "code",
      "source": [
        "for i in ten:\n",
        "  print(img_cnt(i))"
      ],
      "metadata": {
        "colab": {
          "base_uri": "https://localhost:8080/"
        },
        "id": "H0ruWhobPeol",
        "outputId": "ac304db6-a719-42ba-d827-ab431949569d"
      },
      "execution_count": 69,
      "outputs": [
        {
          "output_type": "stream",
          "name": "stdout",
          "text": [
            "160\n",
            "160\n",
            "160\n",
            "160\n",
            "160\n",
            "160\n",
            "160\n",
            "160\n",
            "160\n",
            "160\n",
            "160\n",
            "160\n"
          ]
        }
      ]
    },
    {
      "cell_type": "markdown",
      "source": [
        "##### 이미지 11개를 가진 종자\n",
        "\n",
        "11--> 176\n",
        "\n",
        "[19806:20735]\n",
        "\n",
        "[20736:21131]\n",
        "\n",
        "[21132:21923]"
      ],
      "metadata": {
        "id": "r0r3mcDIRJTF"
      }
    },
    {
      "cell_type": "code",
      "source": [
        "ten = n_list(11) #ten은 10이상 모든 수를 나타냄 / 파라미터로 주어지는 숫자만 잘 확인하기!\n",
        "len(ten)"
      ],
      "metadata": {
        "id": "mqT9TW4nqP6n",
        "colab": {
          "base_uri": "https://localhost:8080/"
        },
        "outputId": "a4c10543-0955-4756-e2b0-81872057c768"
      },
      "execution_count": 70,
      "outputs": [
        {
          "output_type": "execute_result",
          "data": {
            "text/plain": [
              "29"
            ]
          },
          "metadata": {},
          "execution_count": 70
        }
      ]
    },
    {
      "cell_type": "code",
      "source": [
        "rotation(ten)\n",
        "\n",
        "print(cnt_data())"
      ],
      "metadata": {
        "id": "bXBRF8bHqQJZ",
        "colab": {
          "base_uri": "https://localhost:8080/"
        },
        "outputId": "aec4de3d-9f08-4fce-eb7d-99a3839d00bc"
      },
      "execution_count": 71,
      "outputs": [
        {
          "output_type": "stream",
          "name": "stdout",
          "text": [
            "32669\n"
          ]
        }
      ]
    },
    {
      "cell_type": "code",
      "source": [
        "sharp(ten)\n",
        "\n",
        "print(cnt_data())"
      ],
      "metadata": {
        "id": "2c6rh2oSqQXf",
        "colab": {
          "base_uri": "https://localhost:8080/"
        },
        "outputId": "3cce6192-788b-4f09-d67f-6c3a638fe38d"
      },
      "execution_count": 72,
      "outputs": [
        {
          "output_type": "stream",
          "name": "stdout",
          "text": [
            "33945\n"
          ]
        }
      ]
    },
    {
      "cell_type": "code",
      "source": [
        "eqHist(ten)\n",
        "\n",
        "print(cnt_data())"
      ],
      "metadata": {
        "id": "9_hKNCCRqU-H",
        "colab": {
          "base_uri": "https://localhost:8080/"
        },
        "outputId": "110731c9-ac42-45ca-8daf-f7de73d249bf"
      },
      "execution_count": 73,
      "outputs": [
        {
          "output_type": "stream",
          "name": "stdout",
          "text": [
            "36497\n"
          ]
        }
      ]
    },
    {
      "cell_type": "code",
      "source": [
        "for i in ten:\n",
        "  print(img_cnt(i))"
      ],
      "metadata": {
        "colab": {
          "base_uri": "https://localhost:8080/"
        },
        "id": "I53Wow6GRWyU",
        "outputId": "388b3532-1f94-4898-8c50-f9ad7fa3432d"
      },
      "execution_count": 74,
      "outputs": [
        {
          "output_type": "stream",
          "name": "stdout",
          "text": [
            "176\n",
            "176\n",
            "176\n",
            "176\n",
            "176\n",
            "176\n",
            "176\n",
            "176\n",
            "176\n",
            "176\n",
            "176\n",
            "176\n",
            "176\n",
            "176\n",
            "176\n",
            "176\n",
            "176\n",
            "176\n",
            "176\n",
            "176\n",
            "176\n",
            "176\n",
            "176\n",
            "176\n",
            "176\n",
            "176\n",
            "176\n",
            "176\n",
            "176\n"
          ]
        }
      ]
    },
    {
      "cell_type": "markdown",
      "source": [
        "##### 이미지 12개를 가진 종자\n",
        "\n",
        "12 --> 192\n",
        "\n",
        "[21924:21995]\n",
        "\n",
        "[21996:22091]\n",
        "\n",
        "[22092:22283]"
      ],
      "metadata": {
        "id": "WktDUpJGSELE"
      }
    },
    {
      "cell_type": "code",
      "source": [
        "#계속 오류나서 2번씩 돌리면 안뜬다. 그래서 따로 씀\n",
        "ten = n_list(12) #ten은 10이상 모든 수를 나타냄 / 파라미터로 주어지는 숫자만 잘 확인하기!\n",
        "len(ten)"
      ],
      "metadata": {
        "colab": {
          "base_uri": "https://localhost:8080/"
        },
        "id": "Px9nnjL2SNbO",
        "outputId": "b9b188c2-d58d-4138-83c1-d4b2f95aac31"
      },
      "execution_count": 75,
      "outputs": [
        {
          "output_type": "execute_result",
          "data": {
            "text/plain": [
              "2"
            ]
          },
          "metadata": {},
          "execution_count": 75
        }
      ]
    },
    {
      "cell_type": "code",
      "source": [
        "rotation(ten) #계속 오류 1번씩 난다. 그냥 다시 돌리면 된다.\n",
        "\n",
        "print(cnt_data())"
      ],
      "metadata": {
        "id": "btDGG2ikqaFP",
        "colab": {
          "base_uri": "https://localhost:8080/"
        },
        "outputId": "03313a9c-185c-411b-a0df-ab84169a3009"
      },
      "execution_count": 76,
      "outputs": [
        {
          "output_type": "stream",
          "name": "stdout",
          "text": [
            "36569\n"
          ]
        }
      ]
    },
    {
      "cell_type": "code",
      "source": [
        "sharp(ten)\n",
        "\n",
        "print(cnt_data())"
      ],
      "metadata": {
        "id": "q3QWm4BxqZwD",
        "colab": {
          "base_uri": "https://localhost:8080/"
        },
        "outputId": "a266a08e-a979-42e4-94d6-f44995738f32"
      },
      "execution_count": 77,
      "outputs": [
        {
          "output_type": "stream",
          "name": "stdout",
          "text": [
            "36665\n"
          ]
        }
      ]
    },
    {
      "cell_type": "code",
      "source": [
        "eqHist(ten)\n",
        "\n",
        "print(cnt_data())"
      ],
      "metadata": {
        "id": "kLGbD6uzqZeh",
        "colab": {
          "base_uri": "https://localhost:8080/"
        },
        "outputId": "2ac61786-3e50-49b7-d6d4-36ba7bcdbbff"
      },
      "execution_count": 78,
      "outputs": [
        {
          "output_type": "stream",
          "name": "stdout",
          "text": [
            "36857\n"
          ]
        }
      ]
    },
    {
      "cell_type": "code",
      "source": [
        "for i in ten:\n",
        "  print(img_cnt(i))"
      ],
      "metadata": {
        "colab": {
          "base_uri": "https://localhost:8080/"
        },
        "id": "utkJmvVYSXLd",
        "outputId": "e6aedc04-5e4a-424f-ae49-2e066f4bb25e"
      },
      "execution_count": 79,
      "outputs": [
        {
          "output_type": "stream",
          "name": "stdout",
          "text": [
            "192\n",
            "192\n"
          ]
        }
      ]
    },
    {
      "cell_type": "markdown",
      "source": [
        "##### 이미지 13개를 가진 종자\n",
        "\n",
        "13 --> 104\n",
        "\n",
        "[22284:23219]\n",
        "\n",
        "[23220:24467]"
      ],
      "metadata": {
        "id": "Vf8jwXV6Suv7"
      }
    },
    {
      "cell_type": "code",
      "source": [
        "#계속 오류나서 2번씩 돌리면 안뜬다. 그래서 따로 씀\n",
        "ten = n_list(13) #ten은 10이상 모든 수를 나타냄 / 파라미터로 주어지는 숫자만 잘 확인하기!\n",
        "len(ten)"
      ],
      "metadata": {
        "colab": {
          "base_uri": "https://localhost:8080/"
        },
        "id": "R81GKA6SSxh-",
        "outputId": "87ccc347-4c4f-4a50-c4b8-079d75790b30"
      },
      "execution_count": 80,
      "outputs": [
        {
          "output_type": "execute_result",
          "data": {
            "text/plain": [
              "24"
            ]
          },
          "metadata": {},
          "execution_count": 80
        }
      ]
    },
    {
      "cell_type": "code",
      "source": [
        "rotation(ten) #계속 오류 1번씩 난다. 그냥 다시 돌리면 된다.\n",
        "\n",
        "print(cnt_data())"
      ],
      "metadata": {
        "id": "bGkoWczAqhRS",
        "colab": {
          "base_uri": "https://localhost:8080/"
        },
        "outputId": "88148d79-63d0-4237-9695-018164bd5ab3"
      },
      "execution_count": 81,
      "outputs": [
        {
          "output_type": "stream",
          "name": "stdout",
          "text": [
            "37793\n"
          ]
        }
      ]
    },
    {
      "cell_type": "code",
      "source": [
        "sharp(ten)\n",
        "\n",
        "print(cnt_data())"
      ],
      "metadata": {
        "id": "xseLwwvZqhHa",
        "colab": {
          "base_uri": "https://localhost:8080/"
        },
        "outputId": "945958ac-a427-411a-bf62-8e6d0b234836"
      },
      "execution_count": 82,
      "outputs": [
        {
          "output_type": "stream",
          "name": "stdout",
          "text": [
            "39041\n"
          ]
        }
      ]
    },
    {
      "cell_type": "code",
      "source": [
        "for i in ten:\n",
        "  print(img_cnt(i))"
      ],
      "metadata": {
        "colab": {
          "base_uri": "https://localhost:8080/"
        },
        "id": "Y-iHtPSFVOOd",
        "outputId": "9ca6ed8a-4d89-4a0d-d313-7bdd4b08ae44"
      },
      "execution_count": 83,
      "outputs": [
        {
          "output_type": "stream",
          "name": "stdout",
          "text": [
            "104\n",
            "104\n",
            "104\n",
            "104\n",
            "104\n",
            "104\n",
            "104\n",
            "104\n",
            "104\n",
            "104\n",
            "104\n",
            "104\n",
            "104\n",
            "104\n",
            "104\n",
            "104\n",
            "104\n",
            "104\n",
            "104\n",
            "104\n",
            "104\n",
            "104\n",
            "104\n",
            "104\n"
          ]
        }
      ]
    },
    {
      "cell_type": "markdown",
      "source": [
        "##### 이미지 14개를 가진 종자\n",
        "\n",
        "14 --> 112\n",
        "\n",
        "[24468:24551]\n",
        "\n",
        "[24552:24664]"
      ],
      "metadata": {
        "id": "BXQpS__uVo0T"
      }
    },
    {
      "cell_type": "code",
      "source": [
        "#계속 오류나서 2번씩 돌리면 안뜬다. 그래서 따로 씀\n",
        "ten = n_list(14) #ten은 10이상 모든 수를 나타냄 / 파라미터로 주어지는 숫자만 잘 확인하기!\n",
        "len(ten)"
      ],
      "metadata": {
        "colab": {
          "base_uri": "https://localhost:8080/"
        },
        "id": "X0bO_7nhVy5u",
        "outputId": "2cc7e835-759a-44a0-a006-9fa08e5fd436"
      },
      "execution_count": 84,
      "outputs": [
        {
          "output_type": "execute_result",
          "data": {
            "text/plain": [
              "2"
            ]
          },
          "metadata": {},
          "execution_count": 84
        }
      ]
    },
    {
      "cell_type": "code",
      "source": [
        "rotation(ten) #계속 오류 1번씩 난다. 그냥 다시 돌리면 된다.\n",
        "\n",
        "print(cnt_data())"
      ],
      "metadata": {
        "id": "1LGGgfArql8y",
        "colab": {
          "base_uri": "https://localhost:8080/"
        },
        "outputId": "6e4d62e5-2f29-48f7-c268-9d386475d9ae"
      },
      "execution_count": 85,
      "outputs": [
        {
          "output_type": "stream",
          "name": "stdout",
          "text": [
            "39125\n"
          ]
        }
      ]
    },
    {
      "cell_type": "code",
      "source": [
        "sharp(ten)\n",
        "\n",
        "print(cnt_data())"
      ],
      "metadata": {
        "id": "oPmC5oFUqlwS",
        "colab": {
          "base_uri": "https://localhost:8080/"
        },
        "outputId": "096c9db2-9279-44d6-e23b-0a1ee50e86ec"
      },
      "execution_count": 86,
      "outputs": [
        {
          "output_type": "stream",
          "name": "stdout",
          "text": [
            "39237\n"
          ]
        }
      ]
    },
    {
      "cell_type": "code",
      "source": [
        "for i in ten:\n",
        "  print(img_cnt(i))"
      ],
      "metadata": {
        "colab": {
          "base_uri": "https://localhost:8080/"
        },
        "id": "qQmTFsWYV69b",
        "outputId": "9854d57f-470a-4cea-a9f6-7cda648dacfd"
      },
      "execution_count": 87,
      "outputs": [
        {
          "output_type": "stream",
          "name": "stdout",
          "text": [
            "112\n",
            "112\n"
          ]
        }
      ]
    },
    {
      "cell_type": "markdown",
      "source": [
        "##### 이미지 15개를 가진 종자\n",
        "\n",
        "15 --> 120\n",
        "\n",
        "[24664:25518]\n",
        "\n",
        "[25519:26658]"
      ],
      "metadata": {
        "id": "gvnlBvwfWRkl"
      }
    },
    {
      "cell_type": "code",
      "source": [
        "#계속 오류나서 2번씩 돌리면 안뜬다. 그래서 따로 씀\n",
        "ten = n_list(15) #ten은 10이상 모든 수를 나타냄 / 파라미터로 주어지는 숫자만 잘 확인하기!\n",
        "len(ten)"
      ],
      "metadata": {
        "colab": {
          "base_uri": "https://localhost:8080/"
        },
        "id": "-n-qZtbmWVdC",
        "outputId": "d01030bb-c402-4606-f3d5-114ce129f6d8"
      },
      "execution_count": 88,
      "outputs": [
        {
          "output_type": "execute_result",
          "data": {
            "text/plain": [
              "19"
            ]
          },
          "metadata": {},
          "execution_count": 88
        }
      ]
    },
    {
      "cell_type": "code",
      "source": [
        "rotation(ten) #계속 오류 1번씩 난다. 그냥 다시 돌리면 된다.\n",
        "\n",
        "print(cnt_data())"
      ],
      "metadata": {
        "id": "1iTiqoOLqrzN",
        "colab": {
          "base_uri": "https://localhost:8080/"
        },
        "outputId": "c3c3b80b-8e4a-4599-a361-919f3326e5c5"
      },
      "execution_count": 89,
      "outputs": [
        {
          "output_type": "stream",
          "name": "stdout",
          "text": [
            "40092\n"
          ]
        }
      ]
    },
    {
      "cell_type": "code",
      "source": [
        "sharp(ten)\n",
        "\n",
        "print(cnt_data())"
      ],
      "metadata": {
        "id": "EsQg-EyBqrpZ",
        "colab": {
          "base_uri": "https://localhost:8080/"
        },
        "outputId": "d7399a7f-2258-4f1c-87a9-de18e9c3d7cf"
      },
      "execution_count": 90,
      "outputs": [
        {
          "output_type": "stream",
          "name": "stdout",
          "text": [
            "41232\n"
          ]
        }
      ]
    },
    {
      "cell_type": "code",
      "source": [
        "for i in ten:\n",
        "  print(img_cnt(i))"
      ],
      "metadata": {
        "colab": {
          "base_uri": "https://localhost:8080/"
        },
        "id": "RNDRyFfCWc6a",
        "outputId": "0e76f0a5-9c60-41aa-db71-a06317a3bf4d"
      },
      "execution_count": 91,
      "outputs": [
        {
          "output_type": "stream",
          "name": "stdout",
          "text": [
            "120\n",
            "120\n",
            "120\n",
            "120\n",
            "120\n",
            "120\n",
            "120\n",
            "120\n",
            "120\n",
            "120\n",
            "120\n",
            "120\n",
            "120\n",
            "120\n",
            "120\n",
            "120\n",
            "120\n",
            "120\n",
            "120\n"
          ]
        }
      ]
    },
    {
      "cell_type": "markdown",
      "source": [
        "##### 이미지 16개를 가진 종자\n",
        "\n",
        "16 --> 128\n",
        "\n",
        "[26659:26898]\n",
        "\n",
        "[26899:27218]"
      ],
      "metadata": {
        "id": "ZcY8Y8QuW42L"
      }
    },
    {
      "cell_type": "code",
      "source": [
        "#계속 오류나서 2번씩 돌리면 안뜬다. 그래서 따로 씀\n",
        "ten = n_list(16) #ten은 10이상 모든 수를 나타냄 / 파라미터로 주어지는 숫자만 잘 확인하기!\n",
        "len(ten)"
      ],
      "metadata": {
        "colab": {
          "base_uri": "https://localhost:8080/"
        },
        "id": "AGc6GpZdXBQb",
        "outputId": "3c84d00d-414a-421d-8882-4cd8d0f4cba2"
      },
      "execution_count": 92,
      "outputs": [
        {
          "output_type": "execute_result",
          "data": {
            "text/plain": [
              "5"
            ]
          },
          "metadata": {},
          "execution_count": 92
        }
      ]
    },
    {
      "cell_type": "code",
      "source": [
        "rotation(ten) #계속 오류 1번씩 난다. 그냥 다시 돌리면 된다.\n",
        "\n",
        "print(cnt_data())"
      ],
      "metadata": {
        "id": "8Y18Hk9tqwbe",
        "colab": {
          "base_uri": "https://localhost:8080/"
        },
        "outputId": "8231637a-b9fa-46e2-8d66-c6cc8577efb0"
      },
      "execution_count": 93,
      "outputs": [
        {
          "output_type": "stream",
          "name": "stdout",
          "text": [
            "41472\n"
          ]
        }
      ]
    },
    {
      "cell_type": "code",
      "source": [
        "sharp(ten)\n",
        "\n",
        "print(cnt_data())"
      ],
      "metadata": {
        "id": "_nK4V1qNqwPP",
        "colab": {
          "base_uri": "https://localhost:8080/"
        },
        "outputId": "600a9a80-7f44-40eb-e5d1-96436d9c302a"
      },
      "execution_count": 94,
      "outputs": [
        {
          "output_type": "stream",
          "name": "stdout",
          "text": [
            "41792\n"
          ]
        }
      ]
    },
    {
      "cell_type": "code",
      "source": [
        "for i in ten:\n",
        "  print(img_cnt(i))"
      ],
      "metadata": {
        "colab": {
          "base_uri": "https://localhost:8080/"
        },
        "id": "aMzlUTXAXGOq",
        "outputId": "344dc1a2-d72f-41e1-e4d9-b51ab97470bc"
      },
      "execution_count": 95,
      "outputs": [
        {
          "output_type": "stream",
          "name": "stdout",
          "text": [
            "128\n",
            "128\n",
            "128\n",
            "128\n",
            "128\n"
          ]
        }
      ]
    },
    {
      "cell_type": "markdown",
      "source": [
        "##### 이미지 17개를 가진 종자\n",
        "\n",
        "17 --> 136\n"
      ],
      "metadata": {
        "id": "HHYdybz9XYUu"
      }
    },
    {
      "cell_type": "code",
      "source": [
        "#계속 오류나서 2번씩 돌리면 안뜬다. 그래서 따로 씀\n",
        "ten = n_list(17) #ten은 10이상 모든 수를 나타냄 / 파라미터로 주어지는 숫자만 잘 확인하기!\n",
        "len(ten)"
      ],
      "metadata": {
        "colab": {
          "base_uri": "https://localhost:8080/"
        },
        "id": "dHXy1YvrXmkc",
        "outputId": "3d286363-a764-480c-c7dd-79f3ec95cc2b"
      },
      "execution_count": 96,
      "outputs": [
        {
          "output_type": "execute_result",
          "data": {
            "text/plain": [
              "1"
            ]
          },
          "metadata": {},
          "execution_count": 96
        }
      ]
    },
    {
      "cell_type": "code",
      "source": [
        "rotation(ten) #계속 오류 1번씩 난다. 그냥 다시 돌리면 된다.\n",
        "\n",
        "print(cnt_data())"
      ],
      "metadata": {
        "id": "48OHgK1Dq1MP",
        "colab": {
          "base_uri": "https://localhost:8080/"
        },
        "outputId": "4155e7c0-4736-4f76-a56b-46d0573cc9d3"
      },
      "execution_count": 97,
      "outputs": [
        {
          "output_type": "stream",
          "name": "stdout",
          "text": [
            "41843\n"
          ]
        }
      ]
    },
    {
      "cell_type": "code",
      "source": [
        "sharp(ten)\n",
        "\n",
        "print(cnt_data())"
      ],
      "metadata": {
        "id": "gw6NgK71q3HW",
        "colab": {
          "base_uri": "https://localhost:8080/"
        },
        "outputId": "a766b02b-b39f-48d2-d099-ede41bf9d3b8"
      },
      "execution_count": 98,
      "outputs": [
        {
          "output_type": "stream",
          "name": "stdout",
          "text": [
            "41911\n"
          ]
        }
      ]
    },
    {
      "cell_type": "code",
      "source": [
        "for i in ten:\n",
        "  print(img_cnt(i))"
      ],
      "metadata": {
        "colab": {
          "base_uri": "https://localhost:8080/"
        },
        "id": "N73IGJcbXpu_",
        "outputId": "9650952f-e529-4553-b374-1f3a01bee2cf"
      },
      "execution_count": 99,
      "outputs": [
        {
          "output_type": "stream",
          "name": "stdout",
          "text": [
            "136\n"
          ]
        }
      ]
    },
    {
      "cell_type": "markdown",
      "source": [
        "##### 이미지 18개를 가진 종자\n"
      ],
      "metadata": {
        "id": "7cqDGxSWjbT4"
      }
    },
    {
      "cell_type": "code",
      "source": [
        "#계속 오류나서 2번씩 돌리면 안뜬다. 그래서 따로 씀\n",
        "ten = n_list(18) #ten은 10이상 모든 수를 나타냄 / 파라미터로 주어지는 숫자만 잘 확인하기!\n",
        "len(ten)"
      ],
      "metadata": {
        "id": "YbvhoBfmje3Q",
        "colab": {
          "base_uri": "https://localhost:8080/"
        },
        "outputId": "e0ed95f3-2b0b-4352-afae-23a7efeb801d"
      },
      "execution_count": 100,
      "outputs": [
        {
          "output_type": "execute_result",
          "data": {
            "text/plain": [
              "2"
            ]
          },
          "metadata": {},
          "execution_count": 100
        }
      ]
    },
    {
      "cell_type": "code",
      "source": [
        "rotation(ten) #계속 오류 1번씩 난다. 그냥 다시 돌리면 된다.\n",
        "\n",
        "print(cnt_data())"
      ],
      "metadata": {
        "id": "CSO8weyDq6uV",
        "colab": {
          "base_uri": "https://localhost:8080/"
        },
        "outputId": "7dd3cd00-5f04-4879-9217-2eed7bc5ad4c"
      },
      "execution_count": 101,
      "outputs": [
        {
          "output_type": "stream",
          "name": "stdout",
          "text": [
            "42019\n"
          ]
        }
      ]
    },
    {
      "cell_type": "code",
      "source": [
        "sharp(ten)\n",
        "\n",
        "print(cnt_data())"
      ],
      "metadata": {
        "id": "V0tNFOSrq6k-",
        "colab": {
          "base_uri": "https://localhost:8080/"
        },
        "outputId": "7ef6d3a9-7669-4eb9-c779-c862cbd2f628"
      },
      "execution_count": 102,
      "outputs": [
        {
          "output_type": "stream",
          "name": "stdout",
          "text": [
            "42163\n"
          ]
        }
      ]
    },
    {
      "cell_type": "code",
      "source": [
        "for i in ten:\n",
        "  print(img_cnt(i))"
      ],
      "metadata": {
        "id": "T4rj2ECFjgmv",
        "colab": {
          "base_uri": "https://localhost:8080/"
        },
        "outputId": "1290074f-eb46-4f4e-d761-298797097b4a"
      },
      "execution_count": 103,
      "outputs": [
        {
          "output_type": "stream",
          "name": "stdout",
          "text": [
            "144\n",
            "144\n"
          ]
        }
      ]
    },
    {
      "cell_type": "markdown",
      "source": [
        "##### 이미지 19개를 가진 종자"
      ],
      "metadata": {
        "id": "vB8apSTxjj1w"
      }
    },
    {
      "cell_type": "code",
      "source": [
        "#계속 오류나서 2번씩 돌리면 안뜬다. 그래서 따로 씀\n",
        "ten = n_list(19) #ten은 10이상 모든 수를 나타냄 / 파라미터로 주어지는 숫자만 잘 확인하기!\n",
        "len(ten)"
      ],
      "metadata": {
        "id": "WN2PZF3yjv2g",
        "colab": {
          "base_uri": "https://localhost:8080/"
        },
        "outputId": "ef44057e-ce7f-4d11-8b7f-ff7f6fb88d0d"
      },
      "execution_count": 104,
      "outputs": [
        {
          "output_type": "execute_result",
          "data": {
            "text/plain": [
              "3"
            ]
          },
          "metadata": {},
          "execution_count": 104
        }
      ]
    },
    {
      "cell_type": "code",
      "source": [
        "rotation(ten) #계속 오류 1번씩 난다. 그냥 다시 돌리면 된다.\n",
        "\n",
        "print(cnt_data())"
      ],
      "metadata": {
        "id": "y68yH5kdq_xn",
        "colab": {
          "base_uri": "https://localhost:8080/"
        },
        "outputId": "04a2b6f8-628d-4a7d-87da-e50a77197820"
      },
      "execution_count": 105,
      "outputs": [
        {
          "output_type": "stream",
          "name": "stdout",
          "text": [
            "42334\n"
          ]
        }
      ]
    },
    {
      "cell_type": "code",
      "source": [
        "sharp(ten)\n",
        "\n",
        "print(cnt_data())"
      ],
      "metadata": {
        "id": "MgF6b2twq_oZ",
        "colab": {
          "base_uri": "https://localhost:8080/"
        },
        "outputId": "db52e362-f24d-4fb3-f11e-7262213c0085"
      },
      "execution_count": 106,
      "outputs": [
        {
          "output_type": "stream",
          "name": "stdout",
          "text": [
            "42562\n"
          ]
        }
      ]
    },
    {
      "cell_type": "code",
      "source": [
        "for i in ten:\n",
        "  print(img_cnt(i))"
      ],
      "metadata": {
        "id": "K8S8If9rj8ad",
        "colab": {
          "base_uri": "https://localhost:8080/"
        },
        "outputId": "9f14ad99-9cea-4507-e66f-eea45ecd6357"
      },
      "execution_count": 107,
      "outputs": [
        {
          "output_type": "stream",
          "name": "stdout",
          "text": [
            "152\n",
            "152\n",
            "152\n"
          ]
        }
      ]
    },
    {
      "cell_type": "markdown",
      "source": [
        "##### 이미지 20개를 가진 종자"
      ],
      "metadata": {
        "id": "SfIlo8wCjlFh"
      }
    },
    {
      "cell_type": "code",
      "source": [
        "#계속 오류나서 2번씩 돌리면 안뜬다. 그래서 따로 씀\n",
        "ten = n_list(20) #ten은 10이상 모든 수를 나타냄 / 파라미터로 주어지는 숫자만 잘 확인하기!\n",
        "len(ten)"
      ],
      "metadata": {
        "id": "FWKzp-JajxMM",
        "colab": {
          "base_uri": "https://localhost:8080/"
        },
        "outputId": "12029601-861b-4147-c9a3-862daa4c3173"
      },
      "execution_count": 108,
      "outputs": [
        {
          "output_type": "execute_result",
          "data": {
            "text/plain": [
              "2"
            ]
          },
          "metadata": {},
          "execution_count": 108
        }
      ]
    },
    {
      "cell_type": "code",
      "source": [
        "rotation(ten) #계속 오류 1번씩 난다. 그냥 다시 돌리면 된다.\n",
        "\n",
        "print(cnt_data())"
      ],
      "metadata": {
        "id": "GXTWfOCBrF3I",
        "colab": {
          "base_uri": "https://localhost:8080/"
        },
        "outputId": "ab5dc852-7f67-42b8-944a-b16858e8f745"
      },
      "execution_count": 109,
      "outputs": [
        {
          "output_type": "stream",
          "name": "stdout",
          "text": [
            "42682\n"
          ]
        }
      ]
    },
    {
      "cell_type": "code",
      "source": [
        "sharp(ten)\n",
        "\n",
        "print(cnt_data())"
      ],
      "metadata": {
        "id": "6laDt4SErFs8",
        "colab": {
          "base_uri": "https://localhost:8080/"
        },
        "outputId": "ca67e407-5abc-4c0b-a7aa-99373392d0e9"
      },
      "execution_count": 110,
      "outputs": [
        {
          "output_type": "stream",
          "name": "stdout",
          "text": [
            "42842\n"
          ]
        }
      ]
    },
    {
      "cell_type": "code",
      "source": [
        "for i in ten:\n",
        "  print(img_cnt(i))"
      ],
      "metadata": {
        "id": "mgdtTxBEj9ay",
        "colab": {
          "base_uri": "https://localhost:8080/"
        },
        "outputId": "b7876ffe-7bae-450a-df10-9f81a9d197a7"
      },
      "execution_count": 111,
      "outputs": [
        {
          "output_type": "stream",
          "name": "stdout",
          "text": [
            "160\n",
            "160\n"
          ]
        }
      ]
    },
    {
      "cell_type": "markdown",
      "source": [
        "##### 이미지 21개를 가진 종자"
      ],
      "metadata": {
        "id": "DS6zMik1jmq_"
      }
    },
    {
      "cell_type": "code",
      "source": [
        "#계속 오류나서 2번씩 돌리면 안뜬다. 그래서 따로 씀\n",
        "ten = n_list(21) #ten은 10이상 모든 수를 나타냄 / 파라미터로 주어지는 숫자만 잘 확인하기!\n",
        "len(ten)"
      ],
      "metadata": {
        "id": "DuBtTK7fjynh",
        "colab": {
          "base_uri": "https://localhost:8080/"
        },
        "outputId": "f3bc787e-a309-4600-c072-c0f620530ebc"
      },
      "execution_count": 112,
      "outputs": [
        {
          "output_type": "execute_result",
          "data": {
            "text/plain": [
              "2"
            ]
          },
          "metadata": {},
          "execution_count": 112
        }
      ]
    },
    {
      "cell_type": "code",
      "source": [
        "rotation(ten) #계속 오류 1번씩 난다. 그냥 다시 돌리면 된다.\n",
        "\n",
        "print(cnt_data())"
      ],
      "metadata": {
        "id": "5gyfJOv2rJ1J",
        "colab": {
          "base_uri": "https://localhost:8080/"
        },
        "outputId": "ec279a52-8317-49d1-f834-049776616bdf"
      },
      "execution_count": 113,
      "outputs": [
        {
          "output_type": "stream",
          "name": "stdout",
          "text": [
            "42968\n"
          ]
        }
      ]
    },
    {
      "cell_type": "code",
      "source": [
        "sharp(ten)\n",
        "\n",
        "print(cnt_data())"
      ],
      "metadata": {
        "id": "1BE2lvyhrJvD",
        "colab": {
          "base_uri": "https://localhost:8080/"
        },
        "outputId": "fefacea7-ea45-44c1-dc38-faa567c997a4"
      },
      "execution_count": 114,
      "outputs": [
        {
          "output_type": "stream",
          "name": "stdout",
          "text": [
            "43136\n"
          ]
        }
      ]
    },
    {
      "cell_type": "code",
      "source": [
        "for i in ten:\n",
        "  print(img_cnt(i))"
      ],
      "metadata": {
        "id": "QmSW03ibj-Ra",
        "colab": {
          "base_uri": "https://localhost:8080/"
        },
        "outputId": "d600884a-8b62-4b3e-cceb-1bbe88f03e20"
      },
      "execution_count": 115,
      "outputs": [
        {
          "output_type": "stream",
          "name": "stdout",
          "text": [
            "168\n",
            "168\n"
          ]
        }
      ]
    },
    {
      "cell_type": "markdown",
      "source": [
        "##### 이미지 32개를 가진 종자"
      ],
      "metadata": {
        "id": "VhDDin3Hjsfp"
      }
    },
    {
      "cell_type": "code",
      "source": [
        "#계속 오류나서 2번씩 돌리면 안뜬다. 그래서 따로 씀\n",
        "ten = n_list(32) #ten은 10이상 모든 수를 나타냄 / 파라미터로 주어지는 숫자만 잘 확인하기!\n",
        "len(ten)"
      ],
      "metadata": {
        "id": "jwKPB-Vlj0FK",
        "colab": {
          "base_uri": "https://localhost:8080/"
        },
        "outputId": "7f0660c7-f491-4a2b-e08d-d1a8d8147215"
      },
      "execution_count": 116,
      "outputs": [
        {
          "output_type": "execute_result",
          "data": {
            "text/plain": [
              "1"
            ]
          },
          "metadata": {},
          "execution_count": 116
        }
      ]
    },
    {
      "cell_type": "code",
      "source": [
        "rotation(ten) #계속 오류 1번씩 난다. 그냥 다시 돌리면 된다.\n",
        "\n",
        "print(cnt_data())"
      ],
      "metadata": {
        "id": "DSGmJKCYj_Uh",
        "colab": {
          "base_uri": "https://localhost:8080/"
        },
        "outputId": "9666f424-5402-4775-d3f9-cdbd677a7a0f"
      },
      "execution_count": 117,
      "outputs": [
        {
          "output_type": "stream",
          "name": "stdout",
          "text": [
            "43232\n"
          ]
        }
      ]
    },
    {
      "cell_type": "code",
      "source": [
        "for i in ten:\n",
        "  print(img_cnt(i))"
      ],
      "metadata": {
        "id": "Jt95kFx6rO1v",
        "colab": {
          "base_uri": "https://localhost:8080/"
        },
        "outputId": "9d7a4083-b885-452c-bf39-094bfcb5c8e7"
      },
      "execution_count": 118,
      "outputs": [
        {
          "output_type": "stream",
          "name": "stdout",
          "text": [
            "128\n"
          ]
        }
      ]
    },
    {
      "cell_type": "markdown",
      "source": [
        "##### pandas --> csv 저장"
      ],
      "metadata": {
        "id": "QXxVk_sQj89j"
      }
    },
    {
      "cell_type": "code",
      "source": [
        "lable_input.to_csv('re_train.csv', encoding='cp949')"
      ],
      "metadata": {
        "id": "M4jqdbh1iu_X"
      },
      "execution_count": 119,
      "outputs": []
    }
  ]
}