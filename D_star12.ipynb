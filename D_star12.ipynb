{
  "nbformat": 4,
  "nbformat_minor": 0,
  "metadata": {
    "colab": {
      "provenance": []
    },
    "kernelspec": {
      "name": "python3",
      "display_name": "Python 3"
    },
    "language_info": {
      "name": "python"
    },
    "accelerator": "GPU"
  },
  "cells": [
    {
      "cell_type": "markdown",
      "source": [
        "# 대스타\n",
        "\n",
        "4차 모델 구현 CNN"
      ],
      "metadata": {
        "id": "KhRbI6GQymk7"
      }
    },
    {
      "cell_type": "markdown",
      "source": [
        "### Library"
      ],
      "metadata": {
        "id": "2-M34MRwyrmz"
      }
    },
    {
      "cell_type": "code",
      "execution_count": 1,
      "metadata": {
        "id": "9WYajRkvgqrP"
      },
      "outputs": [],
      "source": [
        "import torch\n",
        "import torchvision.datasets as dsets\n",
        "import torchvision.transforms as transforms\n",
        "import torch.nn.init\n",
        "\n",
        "import zipfile\n",
        "import gdown\n",
        "\n",
        "import torchvision\n",
        "from torchvision import transforms"
      ]
    },
    {
      "cell_type": "markdown",
      "source": [
        "### 변수 설정"
      ],
      "metadata": {
        "id": "fGanjGHBy3tP"
      }
    },
    {
      "cell_type": "code",
      "source": [
        "device = 'cuda' if torch.cuda.is_available() else 'cpu'\n",
        "\n",
        "# 랜덤 시드 고정\n",
        "torch.manual_seed(777)\n",
        "\n",
        "# GPU 사용 가능일 경우 랜덤 시드 고정\n",
        "if device == 'cuda':\n",
        "    torch.cuda.manual_seed_all(777)"
      ],
      "metadata": {
        "id": "UCDEKNe9y6bP"
      },
      "execution_count": 2,
      "outputs": []
    },
    {
      "cell_type": "code",
      "source": [
        "learning_rate = 0.001\n",
        "training_epochs = 10\n",
        "batch_size = 64"
      ],
      "metadata": {
        "id": "vP6w1JV_zBl5"
      },
      "execution_count": 3,
      "outputs": []
    },
    {
      "cell_type": "markdown",
      "source": [
        "### Data Processing"
      ],
      "metadata": {
        "id": "abwXC0sjzFFI"
      }
    },
    {
      "cell_type": "code",
      "source": [
        "google_path = 'https://drive.google.com/uc?id='\n",
        "file_id = '1PwuXmL0HdmjsThBHDKhaCfKK3jvdoAIG'\n",
        "output_name = 'train.zip'\n",
        "gdown.download(google_path+file_id,output_name)"
      ],
      "metadata": {
        "colab": {
          "base_uri": "https://localhost:8080/",
          "height": 108
        },
        "id": "p-Xel1omzHVj",
        "outputId": "3a43da49-ebb1-4d7f-cce8-ee09681923e5"
      },
      "execution_count": 4,
      "outputs": [
        {
          "output_type": "stream",
          "name": "stderr",
          "text": [
            "Downloading...\n",
            "From: https://drive.google.com/uc?id=1PwuXmL0HdmjsThBHDKhaCfKK3jvdoAIG\n",
            "To: /content/train.zip\n",
            "100%|██████████| 1.37G/1.37G [00:10<00:00, 125MB/s]\n"
          ]
        },
        {
          "output_type": "execute_result",
          "data": {
            "text/plain": [
              "'train.zip'"
            ],
            "application/vnd.google.colaboratory.intrinsic+json": {
              "type": "string"
            }
          },
          "metadata": {},
          "execution_count": 4
        }
      ]
    },
    {
      "cell_type": "code",
      "source": [
        "input_path = './train.zip'\n",
        "output_path = './data'"
      ],
      "metadata": {
        "id": "i5SF-ZYazK_H"
      },
      "execution_count": 5,
      "outputs": []
    },
    {
      "cell_type": "code",
      "source": [
        "zip_data = zipfile.ZipFile(input_path)\n",
        "zip_data.extractall(output_path)"
      ],
      "metadata": {
        "id": "QCih2rdKzS8M"
      },
      "execution_count": 6,
      "outputs": []
    },
    {
      "cell_type": "code",
      "source": [
        "train_path = './data/output2/train'\n",
        "val_path = './data/output2/val'\n",
        "test_path = './data/output2/test'"
      ],
      "metadata": {
        "id": "lV-ZBo1FzVX2"
      },
      "execution_count": 7,
      "outputs": []
    },
    {
      "cell_type": "code",
      "source": [
        "trainset = torchvision.datasets.ImageFolder(root = train_path, transform=transforms.ToTensor())\n",
        "valset = torchvision.datasets.ImageFolder(root = val_path, transform=transforms.ToTensor())\n",
        "testset = torchvision.datasets.ImageFolder(root = test_path, transform=transforms.ToTensor())"
      ],
      "metadata": {
        "id": "GJFWIbapzk8R"
      },
      "execution_count": 8,
      "outputs": []
    },
    {
      "cell_type": "code",
      "source": [
        "print(f'Number of training examples: {len(trainset)}')\n",
        "print(f'Number of validation examples: {len(valset)}')\n",
        "print(f'Number of testing examples: {len(testset)}')"
      ],
      "metadata": {
        "colab": {
          "base_uri": "https://localhost:8080/"
        },
        "id": "1ZrzH7HBkpxr",
        "outputId": "016846ef-a495-43e6-d75f-9113d6d0c4c7"
      },
      "execution_count": 9,
      "outputs": [
        {
          "output_type": "stream",
          "name": "stdout",
          "text": [
            "Number of training examples: 34461\n",
            "Number of validation examples: 4207\n",
            "Number of testing examples: 4564\n"
          ]
        }
      ]
    },
    {
      "cell_type": "code",
      "source": [
        "data_loader = torch.utils.data.DataLoader(dataset=trainset,\n",
        "                                          batch_size=batch_size,\n",
        "                                          shuffle=True,\n",
        "                                          drop_last=True)\n",
        "\n",
        "val_loader = torch.utils.data.DataLoader(dataset=valset,\n",
        "                                          batch_size=batch_size)\n",
        "\n",
        "test_loader = torch.utils.data.DataLoader(dataset=testset,\n",
        "                                          batch_size=batch_size)"
      ],
      "metadata": {
        "id": "yOerodV1znhE"
      },
      "execution_count": 10,
      "outputs": []
    },
    {
      "cell_type": "markdown",
      "source": [
        "### 모델 구현"
      ],
      "metadata": {
        "id": "wVAlmdgczxp9"
      }
    },
    {
      "cell_type": "code",
      "source": [
        "class CNN(torch.nn.Module):\n",
        "\n",
        "    def __init__(self):\n",
        "        super(CNN, self).__init__()\n",
        "        # 첫번째층\n",
        "        # ImgIn shape=(?, 256, 256, 3)\n",
        "        #    Conv     -> (?, 256, 256, 32)\n",
        "        #    Pool     -> (?, 128, 128, 32)\n",
        "        self.layer1 = torch.nn.Sequential(\n",
        "            torch.nn.Conv2d(3, 32, kernel_size=3, stride=1, padding=1),\n",
        "            torch.nn.ReLU(),\n",
        "            torch.nn.MaxPool2d(kernel_size=2, stride=2))\n",
        "\n",
        "        # 두번째층\n",
        "        # ImgIn shape=(?, 128, 128, 32)\n",
        "        #    Conv      ->(?, 128, 128, 64)\n",
        "        #    Pool      ->(?, 64, 64, 64)\n",
        "        self.layer2 = torch.nn.Sequential(\n",
        "            torch.nn.Conv2d(32, 64, kernel_size=3, stride=1, padding=1),\n",
        "            torch.nn.ReLU(),\n",
        "            torch.nn.MaxPool2d(kernel_size=2, stride=2))\n",
        "\n",
        "        # 전결합층 64x64x64 inputs -> 309 outputs\n",
        "        self.fc = torch.nn.Linear(64 * 64 * 64, 309, bias=True)\n",
        "\n",
        "        # 전결합층 한정으로 가중치 초기화\n",
        "        torch.nn.init.xavier_uniform_(self.fc.weight)\n",
        "\n",
        "    def forward(self, x):\n",
        "        out = self.layer1(x)\n",
        "        out = self.layer2(out)\n",
        "        out = out.view(out.size(0), -1)   # 전결합층을 위해서 Flatten\n",
        "        out = self.fc(out)\n",
        "        return out"
      ],
      "metadata": {
        "id": "5y8DdA0vzzti"
      },
      "execution_count": 11,
      "outputs": []
    },
    {
      "cell_type": "code",
      "source": [
        "# CNN 모델 정의\n",
        "model = CNN().to(device)"
      ],
      "metadata": {
        "id": "GYhNuk0Kz30_"
      },
      "execution_count": 12,
      "outputs": []
    },
    {
      "cell_type": "code",
      "source": [
        "criterion = torch.nn.CrossEntropyLoss().to(device)    # 비용 함수에 소프트맥스 함수 포함되어져 있음.\n",
        "optimizer = torch.optim.Adam(model.parameters(), lr=learning_rate)"
      ],
      "metadata": {
        "id": "r_eW5D35z6Rd"
      },
      "execution_count": 13,
      "outputs": []
    },
    {
      "cell_type": "code",
      "source": [
        "total_batch = len(data_loader)\n",
        "print('총 배치의 수 : {}'.format(total_batch))"
      ],
      "metadata": {
        "colab": {
          "base_uri": "https://localhost:8080/"
        },
        "id": "fSH-8fgxz8fu",
        "outputId": "cf8ecb16-8846-4230-9c96-a5b7d2825844"
      },
      "execution_count": 14,
      "outputs": [
        {
          "output_type": "stream",
          "name": "stdout",
          "text": [
            "총 배치의 수 : 538\n"
          ]
        }
      ]
    },
    {
      "cell_type": "markdown",
      "source": [
        "### Training"
      ],
      "metadata": {
        "id": "roneZVra_dp0"
      }
    },
    {
      "cell_type": "code",
      "source": [
        "for epoch in range(training_epochs):\n",
        "    avg_cost = 0\n",
        "\n",
        "    for X, Y in data_loader: # 미니 배치 단위로 꺼내온다. X는 미니 배치, Y는 레이블.\n",
        "        # image is already size of (28x28), no reshape\n",
        "        # label is not one-hot encoded\n",
        "        X = X.to(device)\n",
        "        Y = Y.to(device)\n",
        "\n",
        "        optimizer.zero_grad()\n",
        "        hypothesis = model(X)\n",
        "        cost = criterion(hypothesis, Y)\n",
        "        cost.backward()\n",
        "        optimizer.step()\n",
        "\n",
        "        avg_cost += cost / total_batch\n",
        "\n",
        "    print('[Epoch: {:>4}] cost = {:>.9}'.format(epoch + 1, avg_cost))"
      ],
      "metadata": {
        "colab": {
          "base_uri": "https://localhost:8080/"
        },
        "id": "Ut7jGqIlz-cB",
        "outputId": "39b0754e-9872-4450-f386-6475a57f01e0"
      },
      "execution_count": 15,
      "outputs": [
        {
          "output_type": "stream",
          "name": "stdout",
          "text": [
            "[Epoch:    1] cost = 3.36170077\n",
            "[Epoch:    2] cost = 0.520744324\n",
            "[Epoch:    3] cost = 0.252074063\n",
            "[Epoch:    4] cost = 0.191820636\n",
            "[Epoch:    5] cost = 0.14198488\n",
            "[Epoch:    6] cost = 0.120318778\n",
            "[Epoch:    7] cost = 0.0940553769\n",
            "[Epoch:    8] cost = 0.077297464\n",
            "[Epoch:    9] cost = 0.0577243157\n",
            "[Epoch:   10] cost = 0.115856886\n"
          ]
        }
      ]
    },
    {
      "cell_type": "markdown",
      "source": [
        "### val test"
      ],
      "metadata": {
        "id": "jyQErAh7_f9P"
      }
    },
    {
      "cell_type": "code",
      "source": [
        "# 학습을 진행하지 않을 것이므로 torch.no_grad()\n",
        "with torch.no_grad():\n",
        "    for x, y in val_loader:\n",
        "        x = x.to(device)\n",
        "        y = y.to(device)\n",
        "        \n",
        "        outputs = model(x)\n",
        "        correct_prediction = torch.argmax(outputs, 1) == y\n",
        "        accuracy = correct_prediction.float().mean()\n",
        "        print(f\"Accuracy: {accuracy.item()}\")\n",
        "        print(\"--------------------\")"
      ],
      "metadata": {
        "colab": {
          "base_uri": "https://localhost:8080/"
        },
        "id": "_6Fq2DZS3UDb",
        "outputId": "8f44e3f0-6ee5-471d-c90a-4ff929656584"
      },
      "execution_count": 16,
      "outputs": [
        {
          "output_type": "stream",
          "name": "stdout",
          "text": [
            "Accuracy: 0.9375\n",
            "--------------------\n",
            "Accuracy: 0.96875\n",
            "--------------------\n",
            "Accuracy: 0.84375\n",
            "--------------------\n",
            "Accuracy: 0.84375\n",
            "--------------------\n",
            "Accuracy: 0.96875\n",
            "--------------------\n",
            "Accuracy: 1.0\n",
            "--------------------\n",
            "Accuracy: 0.96875\n",
            "--------------------\n",
            "Accuracy: 0.9375\n",
            "--------------------\n",
            "Accuracy: 0.84375\n",
            "--------------------\n",
            "Accuracy: 0.984375\n",
            "--------------------\n",
            "Accuracy: 0.859375\n",
            "--------------------\n",
            "Accuracy: 0.96875\n",
            "--------------------\n",
            "Accuracy: 0.921875\n",
            "--------------------\n",
            "Accuracy: 1.0\n",
            "--------------------\n",
            "Accuracy: 0.984375\n",
            "--------------------\n",
            "Accuracy: 0.921875\n",
            "--------------------\n",
            "Accuracy: 0.921875\n",
            "--------------------\n",
            "Accuracy: 1.0\n",
            "--------------------\n",
            "Accuracy: 0.921875\n",
            "--------------------\n",
            "Accuracy: 0.96875\n",
            "--------------------\n",
            "Accuracy: 0.84375\n",
            "--------------------\n",
            "Accuracy: 1.0\n",
            "--------------------\n",
            "Accuracy: 0.953125\n",
            "--------------------\n",
            "Accuracy: 0.953125\n",
            "--------------------\n",
            "Accuracy: 0.984375\n",
            "--------------------\n",
            "Accuracy: 0.953125\n",
            "--------------------\n",
            "Accuracy: 0.9375\n",
            "--------------------\n",
            "Accuracy: 0.875\n",
            "--------------------\n",
            "Accuracy: 0.953125\n",
            "--------------------\n",
            "Accuracy: 0.890625\n",
            "--------------------\n",
            "Accuracy: 0.953125\n",
            "--------------------\n",
            "Accuracy: 0.890625\n",
            "--------------------\n",
            "Accuracy: 0.953125\n",
            "--------------------\n",
            "Accuracy: 0.890625\n",
            "--------------------\n",
            "Accuracy: 0.953125\n",
            "--------------------\n",
            "Accuracy: 0.984375\n",
            "--------------------\n",
            "Accuracy: 1.0\n",
            "--------------------\n",
            "Accuracy: 1.0\n",
            "--------------------\n",
            "Accuracy: 1.0\n",
            "--------------------\n",
            "Accuracy: 1.0\n",
            "--------------------\n",
            "Accuracy: 0.796875\n",
            "--------------------\n",
            "Accuracy: 0.96875\n",
            "--------------------\n",
            "Accuracy: 0.90625\n",
            "--------------------\n",
            "Accuracy: 0.953125\n",
            "--------------------\n",
            "Accuracy: 0.890625\n",
            "--------------------\n",
            "Accuracy: 1.0\n",
            "--------------------\n",
            "Accuracy: 0.828125\n",
            "--------------------\n",
            "Accuracy: 1.0\n",
            "--------------------\n",
            "Accuracy: 1.0\n",
            "--------------------\n",
            "Accuracy: 0.921875\n",
            "--------------------\n",
            "Accuracy: 0.859375\n",
            "--------------------\n",
            "Accuracy: 0.984375\n",
            "--------------------\n",
            "Accuracy: 0.96875\n",
            "--------------------\n",
            "Accuracy: 0.9375\n",
            "--------------------\n",
            "Accuracy: 0.953125\n",
            "--------------------\n",
            "Accuracy: 0.96875\n",
            "--------------------\n",
            "Accuracy: 0.984375\n",
            "--------------------\n",
            "Accuracy: 0.9375\n",
            "--------------------\n",
            "Accuracy: 0.90625\n",
            "--------------------\n",
            "Accuracy: 0.96875\n",
            "--------------------\n",
            "Accuracy: 0.96875\n",
            "--------------------\n",
            "Accuracy: 0.984375\n",
            "--------------------\n",
            "Accuracy: 0.96875\n",
            "--------------------\n",
            "Accuracy: 0.9375\n",
            "--------------------\n",
            "Accuracy: 0.890625\n",
            "--------------------\n",
            "Accuracy: 0.9574467539787292\n",
            "--------------------\n"
          ]
        }
      ]
    },
    {
      "cell_type": "markdown",
      "source": [
        "### test"
      ],
      "metadata": {
        "id": "RIsGsD9q_iKK"
      }
    },
    {
      "cell_type": "code",
      "source": [
        "# 학습을 진행하지 않을 것이므로 torch.no_grad()\n",
        "with torch.no_grad():\n",
        "    for x, y in test_loader:\n",
        "        x = x.to(device)\n",
        "        y = y.to(device)\n",
        "        \n",
        "        outputs = model(x)\n",
        "        correct_prediction = torch.argmax(outputs, 1) == y\n",
        "        accuracy = correct_prediction.float().mean()\n",
        "        print(f\"Accuracy: {accuracy.item()}\")\n",
        "        print(\"--------------------\")"
      ],
      "metadata": {
        "colab": {
          "base_uri": "https://localhost:8080/"
        },
        "id": "rz6FAb-HsEAJ",
        "outputId": "3d020b29-8baa-4fb4-e2fe-03824083e16d"
      },
      "execution_count": 23,
      "outputs": [
        {
          "output_type": "stream",
          "name": "stdout",
          "text": [
            "Accuracy: 0.96875\n",
            "--------------------\n",
            "Accuracy: 0.90625\n",
            "--------------------\n",
            "Accuracy: 0.8125\n",
            "--------------------\n",
            "Accuracy: 0.84375\n",
            "--------------------\n",
            "Accuracy: 0.953125\n",
            "--------------------\n",
            "Accuracy: 0.96875\n",
            "--------------------\n",
            "Accuracy: 0.953125\n",
            "--------------------\n",
            "Accuracy: 0.953125\n",
            "--------------------\n",
            "Accuracy: 0.921875\n",
            "--------------------\n",
            "Accuracy: 0.828125\n",
            "--------------------\n",
            "Accuracy: 1.0\n",
            "--------------------\n",
            "Accuracy: 0.875\n",
            "--------------------\n",
            "Accuracy: 0.96875\n",
            "--------------------\n",
            "Accuracy: 0.9375\n",
            "--------------------\n",
            "Accuracy: 1.0\n",
            "--------------------\n",
            "Accuracy: 1.0\n",
            "--------------------\n",
            "Accuracy: 0.9375\n",
            "--------------------\n",
            "Accuracy: 1.0\n",
            "--------------------\n",
            "Accuracy: 0.859375\n",
            "--------------------\n",
            "Accuracy: 1.0\n",
            "--------------------\n",
            "Accuracy: 0.953125\n",
            "--------------------\n",
            "Accuracy: 0.953125\n",
            "--------------------\n",
            "Accuracy: 0.890625\n",
            "--------------------\n",
            "Accuracy: 1.0\n",
            "--------------------\n",
            "Accuracy: 0.984375\n",
            "--------------------\n",
            "Accuracy: 0.9375\n",
            "--------------------\n",
            "Accuracy: 1.0\n",
            "--------------------\n",
            "Accuracy: 0.859375\n",
            "--------------------\n",
            "Accuracy: 0.9375\n",
            "--------------------\n",
            "Accuracy: 0.9375\n",
            "--------------------\n",
            "Accuracy: 0.953125\n",
            "--------------------\n",
            "Accuracy: 0.890625\n",
            "--------------------\n",
            "Accuracy: 0.828125\n",
            "--------------------\n",
            "Accuracy: 0.90625\n",
            "--------------------\n",
            "Accuracy: 0.78125\n",
            "--------------------\n",
            "Accuracy: 0.984375\n",
            "--------------------\n",
            "Accuracy: 0.828125\n",
            "--------------------\n",
            "Accuracy: 0.9375\n",
            "--------------------\n",
            "Accuracy: 0.890625\n",
            "--------------------\n",
            "Accuracy: 0.984375\n",
            "--------------------\n",
            "Accuracy: 1.0\n",
            "--------------------\n",
            "Accuracy: 1.0\n",
            "--------------------\n",
            "Accuracy: 1.0\n",
            "--------------------\n",
            "Accuracy: 0.9375\n",
            "--------------------\n",
            "Accuracy: 0.8125\n",
            "--------------------\n",
            "Accuracy: 0.9375\n",
            "--------------------\n",
            "Accuracy: 0.828125\n",
            "--------------------\n",
            "Accuracy: 0.84375\n",
            "--------------------\n",
            "Accuracy: 0.796875\n",
            "--------------------\n",
            "Accuracy: 1.0\n",
            "--------------------\n",
            "Accuracy: 0.84375\n",
            "--------------------\n",
            "Accuracy: 1.0\n",
            "--------------------\n",
            "Accuracy: 1.0\n",
            "--------------------\n",
            "Accuracy: 0.953125\n",
            "--------------------\n",
            "Accuracy: 0.828125\n",
            "--------------------\n",
            "Accuracy: 0.921875\n",
            "--------------------\n",
            "Accuracy: 0.796875\n",
            "--------------------\n",
            "Accuracy: 0.96875\n",
            "--------------------\n",
            "Accuracy: 0.921875\n",
            "--------------------\n",
            "Accuracy: 1.0\n",
            "--------------------\n",
            "Accuracy: 0.9375\n",
            "--------------------\n",
            "Accuracy: 1.0\n",
            "--------------------\n",
            "Accuracy: 0.953125\n",
            "--------------------\n",
            "Accuracy: 0.953125\n",
            "--------------------\n",
            "Accuracy: 0.9375\n",
            "--------------------\n",
            "Accuracy: 0.828125\n",
            "--------------------\n",
            "Accuracy: 0.96875\n",
            "--------------------\n",
            "Accuracy: 0.96875\n",
            "--------------------\n",
            "Accuracy: 1.0\n",
            "--------------------\n",
            "Accuracy: 0.765625\n",
            "--------------------\n",
            "Accuracy: 0.921875\n",
            "--------------------\n",
            "Accuracy: 1.0\n",
            "--------------------\n"
          ]
        }
      ]
    }
  ]
}